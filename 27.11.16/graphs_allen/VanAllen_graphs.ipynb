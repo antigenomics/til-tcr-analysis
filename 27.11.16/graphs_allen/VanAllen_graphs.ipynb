{
 "metadata": {
  "name": "",
  "signature": "sha256:c05f0f69a2dc50cf4d5e7069010d57a8e24fa0c0f61b31675f3d80cf8b2734ba"
 },
 "nbformat": 3,
 "nbformat_minor": 0,
 "worksheets": [
  {
   "cells": [
    {
     "cell_type": "heading",
     "level": 2,
     "metadata": {},
     "source": [
      "box-plots"
     ]
    },
    {
     "cell_type": "code",
     "collapsed": false,
     "input": [
      "%matplotlib inline\n",
      "import matplotlib.pyplot as plt\n",
      "import matplotlib.mlab as mlab\n",
      "import collections\n",
      "import numpy as np\n",
      "\n",
      "filenames_response = []\n",
      "filenames_nonresponse = []\n",
      "with open(\"metadata.txt\", \"r\") as f:\n",
      "    for line in f.readlines():\n",
      "        l = line.split(\"\\t\")\n",
      "        name = l[0]\n",
      "        resp = l[2]        \n",
      "        if resp == \"response\":\n",
      "            if name != \"file_name\":\n",
      "                filenames_response.append(name)\n",
      "        if resp == \"nonresponse\":\n",
      "            if name != \"file_name\":\n",
      "                filenames_nonresponse.append(name) \n",
      "                \n",
      "def box_insert_data(filenames_response):\n",
      "    sp = []\n",
      "    for el in filenames_response:\n",
      "        with open(el, \"r\") as f:\n",
      "            insertsize = []\n",
      "            for line in f.readlines():\n",
      "                l = line.split(\"\\t\")\n",
      "                if l[0] != \"count\":\n",
      "                    if l[12] != \"-1\":\n",
      "                        b = float(l[12])\n",
      "                        insertsize.append(float(l[12]))\n",
      "            if len(insertsize) != 0:\n",
      "                avg = sum(insertsize)/len(insertsize)\n",
      "                sp.append(avg)\n",
      "    return sp\n",
      "\n",
      "resp_insert = box_insert_data(filenames_response)\n",
      "nonresp_insert = box_insert_data(filenames_nonresponse)\n",
      "\n",
      "data_insert_box = []\n",
      "data_insert_box.append(resp_insert)\n",
      "data_insert_box.append(nonresp_insert)\n",
      "\n",
      "labels = [\"response\", \"nonresponse\"]\n",
      "\n",
      "fig, ax = plt.subplots(figsize=(5, 4))\n",
      "ax.set_title('Insert_size_VanAllen_boxplot')\n",
      "#plt.subplots_adjust(left=0.075, right=0.95, top=0.9, bottom=0.25)\n",
      "\n",
      "bp = plt.boxplot(data_insert_box, notch=0, sym='+', vert=1, whis=1.5, labels = labels, patch_artist=True)\n",
      "colors = ['cyan', 'pink']\n",
      "for patch, color in zip(bp['boxes'], colors):\n",
      "    patch.set_facecolor(color)\n",
      "\n",
      "plt.setp(bp['whiskers'], color='black')\n",
      "plt.setp(bp['fliers'], color='red', marker='+')\n",
      "\n",
      "plt.show()"
     ],
     "language": "python",
     "metadata": {},
     "outputs": [
      {
       "metadata": {},
       "output_type": "display_data",
       "png": "[encoded data removed]",
       "text": [
        "<matplotlib.figure.Figure at 0x7fef005216a0>"
       ]
      }
     ],
     "prompt_number": 69
    },
    {
     "cell_type": "code",
     "collapsed": false,
     "input": [
      "def box_ndn(filenames_nonresponse):\n",
      "    sp = []\n",
      "    for el in filenames_nonresponse:\n",
      "        with open(el, \"r\") as f:\n",
      "            insertsize = []\n",
      "            for line in f.readlines():\n",
      "                l = line.split(\"\\t\")\n",
      "                if l[0] != \"count\":\n",
      "                    b = float(l[11])\n",
      "                    insertsize.append(float(l[11]))\n",
      "            if len(insertsize) != 0:\n",
      "                avg = sum(insertsize)/len(insertsize)\n",
      "                sp.append(avg)\n",
      "    return sp\n",
      "\n",
      "\n",
      "resp_ndn = box_ndn(filenames_response)\n",
      "nonresp_ndn = box_ndn(filenames_nonresponse)\n",
      "\n",
      "data_ndn_box = []\n",
      "data_ndn_box.append(resp_ndn)\n",
      "data_ndn_box.append(nonresp_ndn)\n",
      "\n",
      "fig2, ax2 = plt.subplots(figsize=(5, 4))\n",
      "ax2.set_title('Ndn_size_VanAllen_boxplot')\n",
      "#plt.subplots_adjust(left=0.075, right=0.95, top=0.9, bottom=0.25)\n",
      "\n",
      "bp2 = plt.boxplot(data_ndn_box, notch=0, sym='+', vert=1, whis=1.5, labels = labels, patch_artist=True)\n",
      "colors = ['cyan', 'pink']\n",
      "for patch, color in zip(bp2['boxes'], colors):\n",
      "    patch.set_facecolor(color)\n",
      "\n",
      "plt.setp(bp['whiskers'], color='black')\n",
      "plt.setp(bp['fliers'], color='red', marker='+')\n",
      "\n",
      "plt.show()"
     ],
     "language": "python",
     "metadata": {},
     "outputs": [
      {
       "metadata": {},
       "output_type": "display_data",
       "png": "[encoded data removed]",
       "text": [
        "<matplotlib.figure.Figure at 0x7fef00352048>"
       ]
      }
     ],
     "prompt_number": 70
    },
    {
     "cell_type": "code",
     "collapsed": false,
     "input": [
      "def strength_hist(filenames_nonresponse):\n",
      "    sp = []\n",
      "    for el in filenames_nonresponse:\n",
      "        with open(el, \"r\") as f:\n",
      "            insertsize = []\n",
      "            for line in f.readlines():\n",
      "                l = line.split(\"\\t\")\n",
      "                if l[0] != \"count\":\n",
      "                    if l[13] != \"\":\n",
      "                        b = float(l[13])\n",
      "                        insertsize.append(float(l[13]))\n",
      "            if len(insertsize) != 0:\n",
      "                avg = sum(insertsize)/len(insertsize)\n",
      "                sp.append(avg)\n",
      "    return sp\n",
      "\n",
      "resp_stre = strength_hist(filenames_response)\n",
      "nonresp_stre = strength_hist(filenames_nonresponse)\n",
      "\n",
      "data_stre_box = []\n",
      "data_stre_box.append(resp_stre)\n",
      "data_stre_box.append(nonresp_stre)\n",
      "\n",
      "fig2, ax2 = plt.subplots(figsize=(5,4))\n",
      "ax2.set_title('Strength_size_VanAllen_boxplot')\n",
      "#plt.subplots_adjust(left=0.075, right=0.95, top=0.9, bottom=0.25)\n",
      "\n",
      "bp3 = plt.boxplot(data_stre_box, notch=0, sym='+', vert=1, whis=1.5, labels = labels, patch_artist=True)\n",
      "colors = ['cyan', 'pink']\n",
      "for patch, color in zip(bp3['boxes'], colors):\n",
      "    patch.set_facecolor(color)\n",
      "\n",
      "plt.setp(bp['whiskers'], color='black')\n",
      "plt.setp(bp['fliers'], color='red', marker='+')\n",
      "\n",
      "plt.show()\n"
     ],
     "language": "python",
     "metadata": {},
     "outputs": [
      {
       "metadata": {},
       "output_type": "display_data",
       "png": "[encoded data removed]",
       "text": [
        "<matplotlib.figure.Figure at 0x7fef002a3e80>"
       ]
      }
     ],
     "prompt_number": 71
    },
    {
     "cell_type": "heading",
     "level": 2,
     "metadata": {},
     "source": [
      "histograms"
     ]
    },
    {
     "cell_type": "code",
     "collapsed": false,
     "input": [
      "def insert_hist(filenames_response):\n",
      "    resp1 = []\n",
      "    for el in filenames_response:\n",
      "        with open(el, \"r\") as f:\n",
      "            for line in f.readlines():\n",
      "                l = line.split(\"\\t\")\n",
      "                if l[0] != \"count\":\n",
      "                    if l[12] != \"-1\":\n",
      "                        b = float(l[12])\n",
      "                        resp1.append(b)\n",
      "    return resp1\n",
      "\n",
      "resp_ins_hist = insert_hist(filenames_response)\n",
      "nonresp_ins_hist = insert_hist(filenames_nonresponse)\n",
      "\n",
      "data_ins_box = []\n",
      "data_ins_box.append(resp_ins_hist)\n",
      "data_ins_box.append(nonresp_ins_hist)\n",
      "\n",
      "fig1, axes1 = plt.subplots()\n",
      "#colors = ['red', 'tan', 'lime']\n",
      "n_bins = 20\n",
      "axes1.hist(data_ins_box, n_bins, normed=1, histtype='step', fill=True, label=labels)\n",
      "axes1.legend(prop={'size': 10})\n",
      "axes1.set_title('hist_insert_size_Hugo')\n",
      "#plt.tight_layout()\n",
      "plt.show()"
     ],
     "language": "python",
     "metadata": {},
     "outputs": [
      {
       "metadata": {},
       "output_type": "display_data",
       "png": "[encoded data removed]",
       "text": [
        "<matplotlib.figure.Figure at 0x7fef006dc828>"
       ]
      }
     ],
     "prompt_number": 72
    },
    {
     "cell_type": "code",
     "collapsed": false,
     "input": [
      "def hist_ndn(filenames_response):\n",
      "    resp1 = []\n",
      "    for el in filenames_response:\n",
      "        with open(el, \"r\") as f:\n",
      "            for line in f.readlines():\n",
      "                l = line.split(\"\\t\")\n",
      "                if l[0] != \"count\":\n",
      "                    b = float(l[11])\n",
      "                    resp1.append(b)\n",
      "    return resp1\n",
      "\n",
      "resp_ndn_hist = hist_ndn(filenames_response)\n",
      "nonresp_ndn_hist = hist_ndn(filenames_nonresponse)\n",
      "\n",
      "data_ndn_box = []\n",
      "data_ndn_box.append(resp_ndn_hist)\n",
      "data_ndn_box.append(nonresp_ndn_hist)\n",
      "\n",
      "fig2, axes2 = plt.subplots()\n",
      "#colors = ['red', 'tan', 'lime']\n",
      "n_bins = 20\n",
      "axes2.hist(data_ndn_box, n_bins, normed=1, histtype='step', fill=True, label=labels)\n",
      "axes2.legend(prop={'size': 10})\n",
      "axes2.set_title('hist_ndn_size_Hugo')\n",
      "#plt.tight_layout()\n",
      "plt.show()"
     ],
     "language": "python",
     "metadata": {},
     "outputs": [
      {
       "metadata": {},
       "output_type": "display_data",
       "png": "[encoded data removed]",
       "text": [
        "<matplotlib.figure.Figure at 0x7fef006dcb00>"
       ]
      }
     ],
     "prompt_number": 73
    },
    {
     "cell_type": "code",
     "collapsed": false,
     "input": [
      "def hist_strength(filenames_response):\n",
      "    resp1 = []\n",
      "    for el in filenames_response:\n",
      "        with open(el, \"r\") as f:\n",
      "            for line in f.readlines():\n",
      "                l = line.split(\"\\t\")\n",
      "                if l[0] != \"count\":\n",
      "                    if l[13] != \"\":\n",
      "                        b = float(l[13])\n",
      "                        resp1.append(b)\n",
      "    return resp1\n",
      "\n",
      "resp_strength_hist = hist_strength(filenames_response)\n",
      "nonresp_strength_hist = hist_strength(filenames_nonresponse)\n",
      "\n",
      "data_strength_hist = []\n",
      "data_strength_hist.append(resp_strength_hist)\n",
      "data_strength_hist.append(nonresp_strength_hist)\n",
      "\n",
      "fig2, axes2 = plt.subplots()\n",
      "#colors = ['red', 'tan', 'lime']\n",
      "n_bins = 8\n",
      "axes2.hist(data_strength_hist, n_bins, normed=1, histtype='step', fill=True, label=labels)\n",
      "axes2.legend(prop={'size': 10})\n",
      "axes2.set_title('hist_strength_Hugo')\n",
      "#plt.tight_layout()\n",
      "plt.show()\n"
     ],
     "language": "python",
     "metadata": {},
     "outputs": [
      {
       "metadata": {},
       "output_type": "display_data",
       "png": "[encoded data removed]",
       "text": [
        "<matplotlib.figure.Figure at 0x7fef0045c320>"
       ]
      }
     ],
     "prompt_number": 74
    },
    {
     "cell_type": "heading",
     "level": 2,
     "metadata": {},
     "source": [
      "CDF"
     ]
    },
    {
     "cell_type": "code",
     "collapsed": false,
     "input": [
      "a1 = np.array(resp_ins_hist) \n",
      "num_bins = 20\n",
      "counts, bin_edges = np.histogram(a1, bins=num_bins, normed=True)\n",
      "cdf = np.cumsum(counts)\n",
      "line_up, = plt.plot(bin_edges[1:], cdf, label=\"response\", color = \"blue\")\n",
      "\n",
      "a2 = np.array(nonresp_ins_hist) \n",
      "num_bins = 20\n",
      "counts, bin_edges = np.histogram(a2, bins=num_bins, normed=True)\n",
      "cdf = np.cumsum(counts)\n",
      "line_down, = plt.plot(bin_edges[1:], cdf,  label=\"nonresponse\", color=\"green\")\n",
      "\n",
      "\n",
      "plt.legend(handles=[line_up, line_down], loc = 'lower right')\n",
      "plt.title(\"CDF_insert_size_allen\")\n",
      "plt.show()"
     ],
     "language": "python",
     "metadata": {},
     "outputs": [
      {
       "metadata": {},
       "output_type": "display_data",
       "png": "[encoded data removed]",
       "text": [
        "<matplotlib.figure.Figure at 0x7feef9e0c5f8>"
       ]
      }
     ],
     "prompt_number": 75
    },
    {
     "cell_type": "code",
     "collapsed": false,
     "input": [
      "a3 = np.array(resp_ndn_hist) \n",
      "num_bins = 20\n",
      "counts, bin_edges = np.histogram(a3, bins=num_bins, normed=True)\n",
      "cdf = np.cumsum(counts)\n",
      "line_up, = plt.plot(bin_edges[1:], cdf, label=\"response\", color = \"blue\")\n",
      "\n",
      "a4 = np.array(nonresp_ndn_hist) \n",
      "num_bins = 20\n",
      "counts, bin_edges = np.histogram(a4, bins=num_bins, normed=True)\n",
      "cdf = np.cumsum(counts)\n",
      "line_down, = plt.plot(bin_edges[1:], cdf,  label=\"nonresponse\", color=\"green\")\n",
      "\n",
      "\n",
      "plt.legend(handles=[line_up, line_down], loc = 'lower right')\n",
      "plt.title(\"CDF_ndn_size_allen\")\n",
      "plt.show()"
     ],
     "language": "python",
     "metadata": {},
     "outputs": [
      {
       "metadata": {},
       "output_type": "display_data",
       "png": "[encoded data removed]",
       "text": [
        "<matplotlib.figure.Figure at 0x7fef001ff240>"
       ]
      }
     ],
     "prompt_number": 76
    },
    {
     "cell_type": "code",
     "collapsed": false,
     "input": [
      "a5 = np.array(resp_strength_hist) \n",
      "num_bins = 8\n",
      "counts, bin_edges = np.histogram(a5, bins=num_bins, normed=True)\n",
      "cdf = np.cumsum(counts)\n",
      "line_up, = plt.plot(bin_edges[1:], cdf, label=\"response\", color = \"blue\")\n",
      "\n",
      "a6 = np.array(nonresp_strength_hist) \n",
      "num_bins = 8\n",
      "counts, bin_edges = np.histogram(a6, bins=num_bins, normed=True)\n",
      "cdf = np.cumsum(counts)\n",
      "line_down, = plt.plot(bin_edges[1:], cdf,  label=\"nonresponse\", color=\"green\")\n",
      "\n",
      "\n",
      "plt.legend(handles=[line_up, line_down], loc = 'lower right')\n",
      "plt.title(\"CDF_ndn_size_allen\")\n",
      "plt.show()"
     ],
     "language": "python",
     "metadata": {},
     "outputs": [
      {
       "metadata": {},
       "output_type": "display_data",
       "png": "[encoded data removed]",
       "text": [
        "<matplotlib.figure.Figure at 0x7fef00220630>"
       ]
      }
     ],
     "prompt_number": 77
    },
    {
     "cell_type": "heading",
     "level": 2,
     "metadata": {},
     "source": [
      "T-test"
     ]
    },
    {
     "cell_type": "heading",
     "level": 4,
     "metadata": {},
     "source": [
      "insert"
     ]
    },
    {
     "cell_type": "code",
     "collapsed": false,
     "input": [
      "st_dev = np.std(resp_insert)\n",
      "st_dev2 = np.std(nonresp_insert)"
     ],
     "language": "python",
     "metadata": {},
     "outputs": [],
     "prompt_number": 78
    },
    {
     "cell_type": "code",
     "collapsed": false,
     "input": [
      "st_dev\n",
      "#1.0034193249696863"
     ],
     "language": "python",
     "metadata": {},
     "outputs": [
      {
       "metadata": {},
       "output_type": "pyout",
       "prompt_number": 79,
       "text": [
        "1.0034193249696863"
       ]
      }
     ],
     "prompt_number": 79
    },
    {
     "cell_type": "code",
     "collapsed": false,
     "input": [
      "st_dev2\n",
      "#1.3833859842867964"
     ],
     "language": "python",
     "metadata": {},
     "outputs": [
      {
       "metadata": {},
       "output_type": "pyout",
       "prompt_number": 80,
       "text": [
        "1.3833859842867964"
       ]
      }
     ],
     "prompt_number": 80
    },
    {
     "cell_type": "code",
     "collapsed": false,
     "input": [
      "#unequal variances \n",
      "from scipy import stats\n",
      "stats.ttest_ind(resp_insert, nonresp_insert, equal_var = False)\n",
      "#Ttest_indResult(statistic=-1.0848966357349676, pvalue=0.28649131170971304)"
     ],
     "language": "python",
     "metadata": {},
     "outputs": [
      {
       "metadata": {},
       "output_type": "pyout",
       "prompt_number": 81,
       "text": [
        "Ttest_indResult(statistic=-1.0848966357349676, pvalue=0.28649131170971304)"
       ]
      }
     ],
     "prompt_number": 81
    },
    {
     "cell_type": "heading",
     "level": 4,
     "metadata": {},
     "source": [
      "ndn"
     ]
    },
    {
     "cell_type": "code",
     "collapsed": false,
     "input": [
      "st_dev = np.std(resp_ndn)\n",
      "st_dev2 = np.std(nonresp_ndn)"
     ],
     "language": "python",
     "metadata": {},
     "outputs": [],
     "prompt_number": 82
    },
    {
     "cell_type": "code",
     "collapsed": false,
     "input": [
      "st_dev\n",
      "#1.4458194147078138"
     ],
     "language": "python",
     "metadata": {},
     "outputs": [
      {
       "metadata": {},
       "output_type": "pyout",
       "prompt_number": 83,
       "text": [
        "1.4458194147078138"
       ]
      }
     ],
     "prompt_number": 83
    },
    {
     "cell_type": "code",
     "collapsed": false,
     "input": [
      "st_dev2\n",
      "#2.9265519026778586"
     ],
     "language": "python",
     "metadata": {},
     "outputs": [
      {
       "metadata": {},
       "output_type": "pyout",
       "prompt_number": 84,
       "text": [
        "2.9265519026778586"
       ]
      }
     ],
     "prompt_number": 84
    },
    {
     "cell_type": "code",
     "collapsed": false,
     "input": [
      "#unequal \n",
      "from scipy import stats\n",
      "stats.ttest_ind(resp_ndn, nonresp_ndn, equal_var = False)\n",
      "#Ttest_indResult(statistic=0.22134153136090273, pvalue=0.82621475324808547)"
     ],
     "language": "python",
     "metadata": {},
     "outputs": [
      {
       "metadata": {},
       "output_type": "pyout",
       "prompt_number": 85,
       "text": [
        "Ttest_indResult(statistic=0.22134153136090273, pvalue=0.82621475324808547)"
       ]
      }
     ],
     "prompt_number": 85
    },
    {
     "cell_type": "heading",
     "level": 4,
     "metadata": {},
     "source": [
      "strength"
     ]
    },
    {
     "cell_type": "code",
     "collapsed": false,
     "input": [
      "st_dev = np.std(resp_stre)\n",
      "st_dev2 = np.std(nonresp_stre)"
     ],
     "language": "python",
     "metadata": {},
     "outputs": [],
     "prompt_number": 86
    },
    {
     "cell_type": "code",
     "collapsed": false,
     "input": [
      "st_dev\n",
      "#0.28527619744802818"
     ],
     "language": "python",
     "metadata": {},
     "outputs": [
      {
       "metadata": {},
       "output_type": "pyout",
       "prompt_number": 87,
       "text": [
        "0.28527619744802818"
       ]
      }
     ],
     "prompt_number": 87
    },
    {
     "cell_type": "code",
     "collapsed": false,
     "input": [
      "st_dev2\n",
      "#0.47200287430719801"
     ],
     "language": "python",
     "metadata": {},
     "outputs": [
      {
       "metadata": {},
       "output_type": "pyout",
       "prompt_number": 88,
       "text": [
        "0.47200287430719801"
       ]
      }
     ],
     "prompt_number": 88
    },
    {
     "cell_type": "code",
     "collapsed": false,
     "input": [
      "#unequal \n",
      "from scipy import stats\n",
      "stats.ttest_ind(resp_stre,nonresp_stre, equal_var = False)\n",
      "#Ttest_indResult(statistic=0.23730604628416857, pvalue=0.81389085789338322)"
     ],
     "language": "python",
     "metadata": {},
     "outputs": [
      {
       "metadata": {},
       "output_type": "pyout",
       "prompt_number": 89,
       "text": [
        "Ttest_indResult(statistic=0.23730604628416857, pvalue=0.81389085789338322)"
       ]
      }
     ],
     "prompt_number": 89
    },
    {
     "cell_type": "heading",
     "level": 2,
     "metadata": {},
     "source": [
      "Kolmogorov-Smirnov test"
     ]
    },
    {
     "cell_type": "heading",
     "level": 4,
     "metadata": {},
     "source": [
      "insert"
     ]
    },
    {
     "cell_type": "code",
     "collapsed": false,
     "input": [
      "from scipy.stats import ks_2samp\n",
      "ks_2samp(resp_ins_hist, nonresp_ins_hist)\n",
      "#Ks_2sampResult(statistic=0.076476633818995277, pvalue=0.42683096122361591)"
     ],
     "language": "python",
     "metadata": {},
     "outputs": [
      {
       "metadata": {},
       "output_type": "pyout",
       "prompt_number": 90,
       "text": [
        "Ks_2sampResult(statistic=0.076476633818995277, pvalue=0.42683096122361591)"
       ]
      }
     ],
     "prompt_number": 90
    },
    {
     "cell_type": "heading",
     "level": 4,
     "metadata": {},
     "source": [
      "ndn"
     ]
    },
    {
     "cell_type": "code",
     "collapsed": false,
     "input": [
      "ks_2samp(resp_ndn_hist, nonresp_ndn_hist)\n",
      "#Ks_2sampResult(statistic=0.052023852833710249, pvalue=0.71212483233371671)"
     ],
     "language": "python",
     "metadata": {},
     "outputs": [
      {
       "metadata": {},
       "output_type": "pyout",
       "prompt_number": 91,
       "text": [
        "Ks_2sampResult(statistic=0.052023852833710249, pvalue=0.71212483233371671)"
       ]
      }
     ],
     "prompt_number": 91
    },
    {
     "cell_type": "heading",
     "level": 4,
     "metadata": {},
     "source": [
      "strength"
     ]
    },
    {
     "cell_type": "code",
     "collapsed": false,
     "input": [
      "ks_2samp(resp_strength_hist, nonresp_strength_hist)\n",
      "#Ks_2sampResult(statistic=0.056666666666666754, pvalue=0.65722718007261072)"
     ],
     "language": "python",
     "metadata": {},
     "outputs": [
      {
       "metadata": {},
       "output_type": "pyout",
       "prompt_number": 92,
       "text": [
        "Ks_2sampResult(statistic=0.056666666666666754, pvalue=0.65722718007261072)"
       ]
      }
     ],
     "prompt_number": 92
    },
    {
     "cell_type": "heading",
     "level": 2,
     "metadata": {},
     "source": [
      "Heatmaps"
     ]
    },
    {
     "cell_type": "heading",
     "level": 4,
     "metadata": {},
     "source": [
      "insert and strength"
     ]
    },
    {
     "cell_type": "code",
     "collapsed": false,
     "input": [
      "def prepare_data(filenames_PD):                \n",
      "    PD = {}\n",
      "    ins = set()\n",
      "    stre = set()\n",
      "    for el in filenames_PD:\n",
      "        with open(el, \"r\") as f:\n",
      "            for line in f.readlines():\n",
      "                l = line.split(\"\\t\")\n",
      "                if l[0] != \"count\":\n",
      "                    if l[12] != \"\" and l[13]!= \"\":\n",
      "                        if l[12] != \"-1\":\n",
      "                            insert = float(l[12])\n",
      "                            ins.add(insert)\n",
      "                            strength = float(l[13])\n",
      "                            stre.add(strength)\n",
      "                            key = (insert, strength)\n",
      "                            if key in PD.keys():\n",
      "                                PD[key] += 1\n",
      "                            else:\n",
      "                                PD[key] = 0\n",
      "    sorted(ins);sorted(stre);n = len(stre);m = len(ins);\n",
      "    ins = list(ins)\n",
      "    stre = list(stre)\n",
      "    data = [] \n",
      "    for el in ins:\n",
      "        bla = []\n",
      "        for k in stre:\n",
      "            if (el,k) not in PD.keys():\n",
      "                bla.append(0)   \n",
      "            else:\n",
      "                bla.append(PD[(el,k)])\n",
      "        data.append(bla)\n",
      "    return (data, ins, stre)\n",
      "\n",
      "\n",
      "\n",
      "data, ins, stre = prepare_data(filenames_response)\n",
      "data1, ins1, stre1 = prepare_data(filenames_nonresponse)\n",
      "\n",
      "plt.figure(1, figsize = (10, 8))\n",
      "\n",
      "\n",
      "plt.subplot(211)\n",
      "plt.pcolor(stre, ins, data)\n",
      "plt.title('response', fontsize=18)\n",
      "\n",
      "cbar = plt.colorbar()\n",
      "\n",
      "plt.subplot(212)\n",
      "plt.pcolor(stre1, ins1, data1)\n",
      "plt.title('nonresponse', fontsize=18)\n",
      "\n",
      "cbar = plt.colorbar()\n",
      "\n",
      "plt.tight_layout() \n",
      "\n",
      "plt.show()\n"
     ],
     "language": "python",
     "metadata": {},
     "outputs": [
      {
       "metadata": {},
       "output_type": "display_data",
       "png": "[encoded data removed]",
       "text": [
        "<matplotlib.figure.Figure at 0x7fef0048ba90>"
       ]
      }
     ],
     "prompt_number": 97
    },
    {
     "cell_type": "code",
     "collapsed": false,
     "input": [],
     "language": "python",
     "metadata": {},
     "outputs": []
    }
   ],
   "metadata": {}
  }
 ]
}