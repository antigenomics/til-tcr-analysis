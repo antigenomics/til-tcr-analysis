{
 "cells": [
  {
   "cell_type": "code",
   "execution_count": 281,
   "metadata": {
    "collapsed": false
   },
   "outputs": [],
   "source": [
    "%matplotlib inline\n",
    "import numpy as np\n",
    "import scipy\n",
    "import pandas as pd\n",
    "import matplotlib.pyplot as plt\n",
    "import collections\n",
    "from collections import defaultdict\n",
    "import seaborn as sns\n",
    "import itertools\n",
    "import scipy.cluster.hierarchy as hac\n",
    "import matplotlib.pyplot as plt\n",
    "from sklearn import *"
   ]
  },
  {
   "cell_type": "code",
   "execution_count": 82,
   "metadata": {
    "collapsed": false
   },
   "outputs": [
    {
     "data": {
      "text/html": [
       "<div>\n",
       "<table border=\"1\" class=\"dataframe\">\n",
       "  <thead>\n",
       "    <tr style=\"text-align: right;\">\n",
       "      <th></th>\n",
       "      <th>a</th>\n",
       "      <th>b</th>\n",
       "      <th>weight</th>\n",
       "    </tr>\n",
       "  </thead>\n",
       "  <tbody>\n",
       "    <tr>\n",
       "      <th>0</th>\n",
       "      <td>CASSPGIQETQYF</td>\n",
       "      <td>CASSLDPGGETQYF</td>\n",
       "      <td>1.286103</td>\n",
       "    </tr>\n",
       "    <tr>\n",
       "      <th>1</th>\n",
       "      <td>CASSVQGGSYEQYF</td>\n",
       "      <td>CASSLDPGGETQYF</td>\n",
       "      <td>1.685884</td>\n",
       "    </tr>\n",
       "    <tr>\n",
       "      <th>2</th>\n",
       "      <td>CASSRGSTDTQYF</td>\n",
       "      <td>CASSLDPGGETQYF</td>\n",
       "      <td>1.195442</td>\n",
       "    </tr>\n",
       "    <tr>\n",
       "      <th>3</th>\n",
       "      <td>CAWSVGSGANVLTF</td>\n",
       "      <td>CASSLDPGGETQYF</td>\n",
       "      <td>1.501279</td>\n",
       "    </tr>\n",
       "    <tr>\n",
       "      <th>4</th>\n",
       "      <td>CASSLSGRGYTF</td>\n",
       "      <td>CASSLDPGGETQYF</td>\n",
       "      <td>1.443738</td>\n",
       "    </tr>\n",
       "  </tbody>\n",
       "</table>\n",
       "</div>"
      ],
      "text/plain": [
       "                a               b    weight\n",
       "0   CASSPGIQETQYF  CASSLDPGGETQYF  1.286103\n",
       "1  CASSVQGGSYEQYF  CASSLDPGGETQYF  1.685884\n",
       "2   CASSRGSTDTQYF  CASSLDPGGETQYF  1.195442\n",
       "3  CAWSVGSGANVLTF  CASSLDPGGETQYF  1.501279\n",
       "4    CASSLSGRGYTF  CASSLDPGGETQYF  1.443738"
      ]
     },
     "execution_count": 82,
     "metadata": {},
     "output_type": "execute_result"
    }
   ],
   "source": [
    "#calculate weight for edges in graph\n",
    "data = pd.read_csv(\"new_pvals_adjust_0_1.txt\", sep=\"\\t\")\n",
    "data['weight'] = data['n_ab'] / (data['num_a']*data['num_b']/data['n'])\n",
    "cluster_data = data[['a', 'b', 'weight']]\n",
    "allcdr = list(set(data['a'].tolist() + data['b'].tolist()))\n",
    "cluster_data.to_csv(\"GRAPH_01.txt\", sep=\"\\t\", index=False)\n",
    "cluster_data[0:5]"
   ]
  },
  {
   "cell_type": "code",
   "execution_count": 83,
   "metadata": {
    "collapsed": false
   },
   "outputs": [
    {
     "data": {
      "text/html": [
       "<div>\n",
       "<table border=\"1\" class=\"dataframe\">\n",
       "  <thead>\n",
       "    <tr style=\"text-align: right;\">\n",
       "      <th></th>\n",
       "      <th>numa</th>\n",
       "      <th>numb</th>\n",
       "      <th>weight</th>\n",
       "    </tr>\n",
       "  </thead>\n",
       "  <tbody>\n",
       "    <tr>\n",
       "      <th>0</th>\n",
       "      <td>8816</td>\n",
       "      <td>7584</td>\n",
       "      <td>1.286103</td>\n",
       "    </tr>\n",
       "    <tr>\n",
       "      <th>1</th>\n",
       "      <td>5092</td>\n",
       "      <td>7584</td>\n",
       "      <td>1.685884</td>\n",
       "    </tr>\n",
       "    <tr>\n",
       "      <th>2</th>\n",
       "      <td>7040</td>\n",
       "      <td>7584</td>\n",
       "      <td>1.195442</td>\n",
       "    </tr>\n",
       "    <tr>\n",
       "      <th>3</th>\n",
       "      <td>9243</td>\n",
       "      <td>7584</td>\n",
       "      <td>1.501279</td>\n",
       "    </tr>\n",
       "    <tr>\n",
       "      <th>4</th>\n",
       "      <td>1638</td>\n",
       "      <td>7584</td>\n",
       "      <td>1.443738</td>\n",
       "    </tr>\n",
       "  </tbody>\n",
       "</table>\n",
       "</div>"
      ],
      "text/plain": [
       "   numa  numb    weight\n",
       "0  8816  7584  1.286103\n",
       "1  5092  7584  1.685884\n",
       "2  7040  7584  1.195442\n",
       "3  9243  7584  1.501279\n",
       "4  1638  7584  1.443738"
      ]
     },
     "execution_count": 83,
     "metadata": {},
     "output_type": "execute_result"
    }
   ],
   "source": [
    "#make numeric values fir each cdr_aa\n",
    "vertexes =  pd.DataFrame(allcdr)\n",
    "vertexes['num'] = vertexes.index\n",
    "vertexes.columns = ['a', 'numa']\n",
    "\n",
    "vertexes2 =  pd.DataFrame(allcdr)\n",
    "vertexes2['num1'] = vertexes2.index\n",
    "vertexes2.columns = ['b', 'numb']\n",
    "\n",
    "a_pd = cluster_data.merge(vertexes, on='a', how='inner')\n",
    "ab_pd = a_pd.merge(vertexes2, on='b', how='inner')\n",
    "ab_pd[0:5]\n",
    "cluster_data_num = ab_pd[['numa', 'numb', 'weight']]\n",
    "\n",
    "cluster_data_num[0:5]"
   ]
  },
  {
   "cell_type": "markdown",
   "metadata": {},
   "source": [
    "### SYMM MATRIX 9998*9998 "
   ]
  },
  {
   "cell_type": "code",
   "execution_count": 282,
   "metadata": {
    "collapsed": false
   },
   "outputs": [
    {
     "data": {
      "text/html": [
       "<div>\n",
       "<table border=\"1\" class=\"dataframe\">\n",
       "  <thead>\n",
       "    <tr style=\"text-align: right;\">\n",
       "      <th></th>\n",
       "      <th>CASSVRDRGTEAFF</th>\n",
       "      <th>CASSLGQGGEQFF</th>\n",
       "      <th>CASSFRAGQETQYF</th>\n",
       "      <th>CASSESGGGQPQHF</th>\n",
       "      <th>CATGQLNTEAFF</th>\n",
       "      <th>CASSYGPNEQFF</th>\n",
       "      <th>CASSVVGDSYNEQFF</th>\n",
       "      <th>CASSRQGGNEQFF</th>\n",
       "      <th>CASSPGWGQPQHF</th>\n",
       "      <th>CASSSSNEQYF</th>\n",
       "      <th>...</th>\n",
       "      <th>CASSQGWDTQYF</th>\n",
       "      <th>CASSPATYNEQFF</th>\n",
       "      <th>CSARRNNEQFF</th>\n",
       "      <th>CASSGGGGEQFF</th>\n",
       "      <th>CASSPPGANEKLFF</th>\n",
       "      <th>CASTPGGYEQYF</th>\n",
       "      <th>CASSYDRGYGYTF</th>\n",
       "      <th>CASSTTADTQYF</th>\n",
       "      <th>CASSYRGRGYEQYF</th>\n",
       "      <th>cdr</th>\n",
       "    </tr>\n",
       "  </thead>\n",
       "  <tbody>\n",
       "    <tr>\n",
       "      <th>CASSVRDRGTEAFF</th>\n",
       "      <td>0.0</td>\n",
       "      <td>0.0</td>\n",
       "      <td>0.0</td>\n",
       "      <td>0.0</td>\n",
       "      <td>0.0</td>\n",
       "      <td>0.0</td>\n",
       "      <td>0.0</td>\n",
       "      <td>0.0</td>\n",
       "      <td>0.0</td>\n",
       "      <td>0.0</td>\n",
       "      <td>...</td>\n",
       "      <td>0.0</td>\n",
       "      <td>0.0</td>\n",
       "      <td>0.0</td>\n",
       "      <td>0.0</td>\n",
       "      <td>0.0</td>\n",
       "      <td>0.0</td>\n",
       "      <td>0.0</td>\n",
       "      <td>0.0</td>\n",
       "      <td>0.0</td>\n",
       "      <td>CASSVRDRGTEAFF</td>\n",
       "    </tr>\n",
       "    <tr>\n",
       "      <th>CASSLGQGGEQFF</th>\n",
       "      <td>0.0</td>\n",
       "      <td>0.0</td>\n",
       "      <td>0.0</td>\n",
       "      <td>0.0</td>\n",
       "      <td>0.0</td>\n",
       "      <td>0.0</td>\n",
       "      <td>0.0</td>\n",
       "      <td>0.0</td>\n",
       "      <td>0.0</td>\n",
       "      <td>0.0</td>\n",
       "      <td>...</td>\n",
       "      <td>0.0</td>\n",
       "      <td>0.0</td>\n",
       "      <td>0.0</td>\n",
       "      <td>0.0</td>\n",
       "      <td>0.0</td>\n",
       "      <td>0.0</td>\n",
       "      <td>0.0</td>\n",
       "      <td>0.0</td>\n",
       "      <td>0.0</td>\n",
       "      <td>CASSLGQGGEQFF</td>\n",
       "    </tr>\n",
       "    <tr>\n",
       "      <th>CASSFRAGQETQYF</th>\n",
       "      <td>0.0</td>\n",
       "      <td>0.0</td>\n",
       "      <td>0.0</td>\n",
       "      <td>0.0</td>\n",
       "      <td>0.0</td>\n",
       "      <td>0.0</td>\n",
       "      <td>0.0</td>\n",
       "      <td>0.0</td>\n",
       "      <td>0.0</td>\n",
       "      <td>0.0</td>\n",
       "      <td>...</td>\n",
       "      <td>0.0</td>\n",
       "      <td>0.0</td>\n",
       "      <td>0.0</td>\n",
       "      <td>0.0</td>\n",
       "      <td>0.0</td>\n",
       "      <td>0.0</td>\n",
       "      <td>0.0</td>\n",
       "      <td>0.0</td>\n",
       "      <td>0.0</td>\n",
       "      <td>CASSFRAGQETQYF</td>\n",
       "    </tr>\n",
       "    <tr>\n",
       "      <th>CASSESGGGQPQHF</th>\n",
       "      <td>0.0</td>\n",
       "      <td>0.0</td>\n",
       "      <td>0.0</td>\n",
       "      <td>0.0</td>\n",
       "      <td>0.0</td>\n",
       "      <td>0.0</td>\n",
       "      <td>0.0</td>\n",
       "      <td>0.0</td>\n",
       "      <td>0.0</td>\n",
       "      <td>0.0</td>\n",
       "      <td>...</td>\n",
       "      <td>0.0</td>\n",
       "      <td>0.0</td>\n",
       "      <td>0.0</td>\n",
       "      <td>0.0</td>\n",
       "      <td>0.0</td>\n",
       "      <td>0.0</td>\n",
       "      <td>0.0</td>\n",
       "      <td>0.0</td>\n",
       "      <td>0.0</td>\n",
       "      <td>CASSESGGGQPQHF</td>\n",
       "    </tr>\n",
       "    <tr>\n",
       "      <th>CATGQLNTEAFF</th>\n",
       "      <td>0.0</td>\n",
       "      <td>0.0</td>\n",
       "      <td>0.0</td>\n",
       "      <td>0.0</td>\n",
       "      <td>0.0</td>\n",
       "      <td>0.0</td>\n",
       "      <td>0.0</td>\n",
       "      <td>0.0</td>\n",
       "      <td>0.0</td>\n",
       "      <td>0.0</td>\n",
       "      <td>...</td>\n",
       "      <td>0.0</td>\n",
       "      <td>0.0</td>\n",
       "      <td>0.0</td>\n",
       "      <td>0.0</td>\n",
       "      <td>0.0</td>\n",
       "      <td>0.0</td>\n",
       "      <td>0.0</td>\n",
       "      <td>0.0</td>\n",
       "      <td>0.0</td>\n",
       "      <td>CATGQLNTEAFF</td>\n",
       "    </tr>\n",
       "  </tbody>\n",
       "</table>\n",
       "<p>5 rows × 9999 columns</p>\n",
       "</div>"
      ],
      "text/plain": [
       "                CASSVRDRGTEAFF  CASSLGQGGEQFF  CASSFRAGQETQYF  CASSESGGGQPQHF  \\\n",
       "CASSVRDRGTEAFF             0.0            0.0             0.0             0.0   \n",
       "CASSLGQGGEQFF              0.0            0.0             0.0             0.0   \n",
       "CASSFRAGQETQYF             0.0            0.0             0.0             0.0   \n",
       "CASSESGGGQPQHF             0.0            0.0             0.0             0.0   \n",
       "CATGQLNTEAFF               0.0            0.0             0.0             0.0   \n",
       "\n",
       "                CATGQLNTEAFF  CASSYGPNEQFF  CASSVVGDSYNEQFF  CASSRQGGNEQFF  \\\n",
       "CASSVRDRGTEAFF           0.0           0.0              0.0            0.0   \n",
       "CASSLGQGGEQFF            0.0           0.0              0.0            0.0   \n",
       "CASSFRAGQETQYF           0.0           0.0              0.0            0.0   \n",
       "CASSESGGGQPQHF           0.0           0.0              0.0            0.0   \n",
       "CATGQLNTEAFF             0.0           0.0              0.0            0.0   \n",
       "\n",
       "                CASSPGWGQPQHF  CASSSSNEQYF       ...        CASSQGWDTQYF  \\\n",
       "CASSVRDRGTEAFF            0.0          0.0       ...                 0.0   \n",
       "CASSLGQGGEQFF             0.0          0.0       ...                 0.0   \n",
       "CASSFRAGQETQYF            0.0          0.0       ...                 0.0   \n",
       "CASSESGGGQPQHF            0.0          0.0       ...                 0.0   \n",
       "CATGQLNTEAFF              0.0          0.0       ...                 0.0   \n",
       "\n",
       "                CASSPATYNEQFF  CSARRNNEQFF  CASSGGGGEQFF  CASSPPGANEKLFF  \\\n",
       "CASSVRDRGTEAFF            0.0          0.0           0.0             0.0   \n",
       "CASSLGQGGEQFF             0.0          0.0           0.0             0.0   \n",
       "CASSFRAGQETQYF            0.0          0.0           0.0             0.0   \n",
       "CASSESGGGQPQHF            0.0          0.0           0.0             0.0   \n",
       "CATGQLNTEAFF              0.0          0.0           0.0             0.0   \n",
       "\n",
       "                CASTPGGYEQYF  CASSYDRGYGYTF  CASSTTADTQYF  CASSYRGRGYEQYF  \\\n",
       "CASSVRDRGTEAFF           0.0            0.0           0.0             0.0   \n",
       "CASSLGQGGEQFF            0.0            0.0           0.0             0.0   \n",
       "CASSFRAGQETQYF           0.0            0.0           0.0             0.0   \n",
       "CASSESGGGQPQHF           0.0            0.0           0.0             0.0   \n",
       "CATGQLNTEAFF             0.0            0.0           0.0             0.0   \n",
       "\n",
       "                           cdr  \n",
       "CASSVRDRGTEAFF  CASSVRDRGTEAFF  \n",
       "CASSLGQGGEQFF    CASSLGQGGEQFF  \n",
       "CASSFRAGQETQYF  CASSFRAGQETQYF  \n",
       "CASSESGGGQPQHF  CASSESGGGQPQHF  \n",
       "CATGQLNTEAFF      CATGQLNTEAFF  \n",
       "\n",
       "[5 rows x 9999 columns]"
      ]
     },
     "execution_count": 282,
     "metadata": {},
     "output_type": "execute_result"
    }
   ],
   "source": [
    "import scipy.sparse as ss\n",
    "\n",
    "#make matrix \n",
    "def read_data_file_as_coo_matrix(cluster_data_num, wei):\n",
    "    \"Read data file and return sparse matrix in coordinate format.\"\n",
    "    rows = cluster_data_num['numa']  # Not a copy, just a reference.\n",
    "    cols = cluster_data_num['numb']\n",
    "    if wei == 'custom':\n",
    "        weight = cluster_data_num['weight']#[1 for x in range(len(cluster_data_num['weight']))]\n",
    "    #ones = np.ones(len(rows))\n",
    "    if wei == '1':\n",
    "        weight = [1 for x in range(len(cluster_data_num['weight']))]\n",
    "        \n",
    "    matrix = ss.coo_matrix((weight, (rows, cols))).toarray()\n",
    "    return matrix\n",
    "\n",
    "kek = read_data_file_as_coo_matrix(cluster_data_num, 'custom')\n",
    "\n",
    "#symmetric\n",
    "def symmetrize(a):\n",
    "    return a + a.T - np.diag(a.diagonal())\n",
    "\n",
    "lol = symmetrize(kek)\n",
    "\n",
    "pd_lol = pd.DataFrame(lol, index = vertexes['a'].tolist())\n",
    "pd_lol.columns = vertexes['a'].tolist()\n",
    "pd_lol['cdr'] = pd_lol.index\n",
    "pd_lol[0:5]"
   ]
  },
  {
   "cell_type": "code",
   "execution_count": 283,
   "metadata": {
    "collapsed": false
   },
   "outputs": [],
   "source": [
    "#pd_lol[(pd_lol['cdr'] == 'CASSPRYNEQFF')]['CASSPGVANYGYTF']\n",
    "#pd_lol[(pd_lol['cdr'] == 'CASSPGVANYGYTF')]['CASSPRYNEQFF']"
   ]
  },
  {
   "cell_type": "markdown",
   "metadata": {},
   "source": [
    "### SPECTRAL CLUSTERING"
   ]
  },
  {
   "cell_type": "code",
   "execution_count": 284,
   "metadata": {
    "collapsed": false
   },
   "outputs": [
    {
     "data": {
      "image/png": "[encoded data removed]",
      "text/plain": [
       "<matplotlib.figure.Figure at 0x7f4831896390>"
      ]
     },
     "metadata": {},
     "output_type": "display_data"
    },
    {
     "data": {
      "image/png": "[encoded data removed]",
      "text/plain": [
       "<matplotlib.figure.Figure at 0x7f485c8b6d30>"
      ]
     },
     "metadata": {},
     "output_type": "display_data"
    },
    {
     "data": {
      "image/png": "[encoded data removed]",
      "text/plain": [
       "<matplotlib.figure.Figure at 0x7f480e73a940>"
      ]
     },
     "metadata": {},
     "output_type": "display_data"
    },
    {
     "data": {
      "image/png": "[encoded data removed]",
      "text/plain": [
       "<matplotlib.figure.Figure at 0x7f4831bada58>"
      ]
     },
     "metadata": {},
     "output_type": "display_data"
    }
   ],
   "source": [
    "from functools import *     #amg\n",
    "for el in [4,5, 6, 7]:\n",
    "    clustering = cluster.SpectralClustering(el, affinity='precomputed',eigen_solver='arpack')\n",
    "    #clustering.fit(pd_lol.ix[:, 0:-1])\n",
    "    clusters = clustering.fit_predict(pd_lol.ix[:, 0:-1])\n",
    "    n = len(set(list(clusters)))\n",
    "    classes = []\n",
    "    for k in range(n):\n",
    "        indices = [i for i, x in enumerate(clusters) if x == k]\n",
    "        cla = pd.DataFrame(indices)\n",
    "        cla['class'] = k\n",
    "        cla.columns = ['num', 'class']\n",
    "        classes.append(cla)\n",
    "    kik = reduce(lambda x, y: pd.concat([x, y]), classes)\n",
    "    kik2 = kik.groupby(['class']).count().reset_index()\n",
    "    kik2[['num']].plot(kind='bar')"
   ]
  },
  {
   "cell_type": "markdown",
   "metadata": {},
   "source": [
    "### SELECT 7 CLUSTERS"
   ]
  },
  {
   "cell_type": "code",
   "execution_count": 285,
   "metadata": {
    "collapsed": false
   },
   "outputs": [
    {
     "data": {
      "text/html": [
       "<div>\n",
       "<table border=\"1\" class=\"dataframe\">\n",
       "  <thead>\n",
       "    <tr style=\"text-align: right;\">\n",
       "      <th></th>\n",
       "      <th>cdr</th>\n",
       "      <th>num</th>\n",
       "      <th>class</th>\n",
       "    </tr>\n",
       "  </thead>\n",
       "  <tbody>\n",
       "    <tr>\n",
       "      <th>0</th>\n",
       "      <td>CASSVRDRGTEAFF</td>\n",
       "      <td>0</td>\n",
       "      <td>1</td>\n",
       "    </tr>\n",
       "    <tr>\n",
       "      <th>1</th>\n",
       "      <td>CASSLGQGGEQFF</td>\n",
       "      <td>1</td>\n",
       "      <td>0</td>\n",
       "    </tr>\n",
       "    <tr>\n",
       "      <th>2</th>\n",
       "      <td>CASSFRAGQETQYF</td>\n",
       "      <td>2</td>\n",
       "      <td>1</td>\n",
       "    </tr>\n",
       "    <tr>\n",
       "      <th>3</th>\n",
       "      <td>CASSESGGGQPQHF</td>\n",
       "      <td>3</td>\n",
       "      <td>1</td>\n",
       "    </tr>\n",
       "    <tr>\n",
       "      <th>4</th>\n",
       "      <td>CATGQLNTEAFF</td>\n",
       "      <td>4</td>\n",
       "      <td>0</td>\n",
       "    </tr>\n",
       "  </tbody>\n",
       "</table>\n",
       "</div>"
      ],
      "text/plain": [
       "              cdr  num  class\n",
       "0  CASSVRDRGTEAFF    0      1\n",
       "1   CASSLGQGGEQFF    1      0\n",
       "2  CASSFRAGQETQYF    2      1\n",
       "3  CASSESGGGQPQHF    3      1\n",
       "4    CATGQLNTEAFF    4      0"
      ]
     },
     "execution_count": 285,
     "metadata": {},
     "output_type": "execute_result"
    }
   ],
   "source": [
    "clustering = cluster.SpectralClustering(7, affinity='precomputed',eigen_solver='arpack')\n",
    "clusters = clustering.fit_predict(pd_lol.ix[:, 0:-1])\n",
    "\n",
    "classes=[]\n",
    "for k in range(7):\n",
    "    indices = [i for i, x in enumerate(clusters) if x == k]\n",
    "    cla = pd.DataFrame(indices)\n",
    "    cla['class'] = k\n",
    "    cla.columns = ['num', 'class']\n",
    "    classes.append(cla)\n",
    "    \n",
    "kik = reduce(lambda x, y: pd.concat([x, y]), classes)    \n",
    "\n",
    "vertexes3 =  pd.DataFrame(allcdr)\n",
    "vertexes3['num'] = vertexes.index\n",
    "vertexes3.columns = ['cdr', 'num']\n",
    "\n",
    "vert_class = vertexes3.merge(kik, on='num', how='inner')\n",
    "vert_class[0:5]"
   ]
  },
  {
   "cell_type": "code",
   "execution_count": 286,
   "metadata": {
    "collapsed": false
   },
   "outputs": [
    {
     "data": {
      "text/html": [
       "<div>\n",
       "<table border=\"1\" class=\"dataframe\">\n",
       "  <thead>\n",
       "    <tr style=\"text-align: right;\">\n",
       "      <th></th>\n",
       "      <th>samp</th>\n",
       "      <th>cdr</th>\n",
       "    </tr>\n",
       "  </thead>\n",
       "  <tbody>\n",
       "    <tr>\n",
       "      <th>0</th>\n",
       "      <td>HIP01264</td>\n",
       "      <td>CASSLGQGGEQFF</td>\n",
       "    </tr>\n",
       "    <tr>\n",
       "      <th>1</th>\n",
       "      <td>HIP01264</td>\n",
       "      <td>CASSLATANTGELFF</td>\n",
       "    </tr>\n",
       "    <tr>\n",
       "      <th>2</th>\n",
       "      <td>HIP01264</td>\n",
       "      <td>CASSLENQETQYF</td>\n",
       "    </tr>\n",
       "    <tr>\n",
       "      <th>3</th>\n",
       "      <td>HIP01264</td>\n",
       "      <td>CASSQGQVSYEQYF</td>\n",
       "    </tr>\n",
       "    <tr>\n",
       "      <th>4</th>\n",
       "      <td>HIP01264</td>\n",
       "      <td>CASSFGQLNEKLFF</td>\n",
       "    </tr>\n",
       "  </tbody>\n",
       "</table>\n",
       "</div>"
      ],
      "text/plain": [
       "       samp              cdr\n",
       "0  HIP01264    CASSLGQGGEQFF\n",
       "1  HIP01264  CASSLATANTGELFF\n",
       "2  HIP01264    CASSLENQETQYF\n",
       "3  HIP01264   CASSQGQVSYEQYF\n",
       "4  HIP01264   CASSFGQLNEKLFF"
      ]
     },
     "execution_count": 286,
     "metadata": {},
     "output_type": "execute_result"
    }
   ],
   "source": [
    "from collections import *\n",
    "d = defaultdict(list)\n",
    "with open(\"names.txt\", 'r') as f:\n",
    "    for line in f.readlines():\n",
    "        name = line.strip()\n",
    "        with open(\"public-tcr/D1/\"+name, 'r') as g:\n",
    "            for l in g.readlines():\n",
    "                cdr = l.strip()\n",
    "                d[name].append(cdr) \n",
    "                \n",
    "#publics vs samples\n",
    "d_sample = defaultdict(list)\n",
    "for k, v in d.items():    \n",
    "    d_sample[k] = set(v).intersection(allcdr)\n",
    "    \n",
    "out = open(\"PUBLIC_SAMPLE_13_05.txt\", 'w')\n",
    "\n",
    "for k, v in d_sample.items():\n",
    "    for el in v:\n",
    "        out.write(k.split(\".\")[0]+\"\\t\"+el+\"\\n\")\n",
    "    \n",
    "    \n",
    "out.close() \n",
    "\n",
    "samp = pd.read_csv(\"PUBLIC_SAMPLE_13_05.txt\", sep=\"\\t\", header=None)\n",
    "samp.columns = ['samp', 'cdr']\n",
    "samp1 = samp.drop_duplicates()\n",
    "samp1[0:5]"
   ]
  },
  {
   "cell_type": "code",
   "execution_count": 287,
   "metadata": {
    "collapsed": false
   },
   "outputs": [
    {
     "data": {
      "text/html": [
       "<div>\n",
       "<table border=\"1\" class=\"dataframe\">\n",
       "  <thead>\n",
       "    <tr style=\"text-align: right;\">\n",
       "      <th></th>\n",
       "      <th>claster0</th>\n",
       "      <th>claster1</th>\n",
       "      <th>claster2</th>\n",
       "      <th>claster3</th>\n",
       "      <th>claster4</th>\n",
       "      <th>claster5</th>\n",
       "      <th>claster0</th>\n",
       "    </tr>\n",
       "  </thead>\n",
       "  <tbody>\n",
       "    <tr>\n",
       "      <th>HIP00110</th>\n",
       "      <td>0.000953</td>\n",
       "      <td>0.000842</td>\n",
       "      <td>0.000965</td>\n",
       "      <td>0.000849</td>\n",
       "      <td>0.000479</td>\n",
       "      <td>0.000633</td>\n",
       "      <td>0.001621</td>\n",
       "    </tr>\n",
       "    <tr>\n",
       "      <th>HIP00169</th>\n",
       "      <td>0.000746</td>\n",
       "      <td>0.000999</td>\n",
       "      <td>0.000818</td>\n",
       "      <td>0.000830</td>\n",
       "      <td>0.000479</td>\n",
       "      <td>0.000522</td>\n",
       "      <td>0.000778</td>\n",
       "    </tr>\n",
       "    <tr>\n",
       "      <th>HIP00594</th>\n",
       "      <td>0.001526</td>\n",
       "      <td>0.001333</td>\n",
       "      <td>0.001460</td>\n",
       "      <td>0.001640</td>\n",
       "      <td>0.000799</td>\n",
       "      <td>0.001088</td>\n",
       "      <td>0.002464</td>\n",
       "    </tr>\n",
       "    <tr>\n",
       "      <th>HIP00602</th>\n",
       "      <td>0.001760</td>\n",
       "      <td>0.001427</td>\n",
       "      <td>0.001588</td>\n",
       "      <td>0.001746</td>\n",
       "      <td>0.001491</td>\n",
       "      <td>0.001554</td>\n",
       "      <td>0.001751</td>\n",
       "    </tr>\n",
       "    <tr>\n",
       "      <th>HIP00614</th>\n",
       "      <td>0.000919</td>\n",
       "      <td>0.000703</td>\n",
       "      <td>0.000760</td>\n",
       "      <td>0.001090</td>\n",
       "      <td>0.001438</td>\n",
       "      <td>0.001221</td>\n",
       "      <td>0.000519</td>\n",
       "    </tr>\n",
       "  </tbody>\n",
       "</table>\n",
       "</div>"
      ],
      "text/plain": [
       "          claster0  claster1  claster2  claster3  claster4  claster5  claster0\n",
       "HIP00110  0.000953  0.000842  0.000965  0.000849  0.000479  0.000633  0.001621\n",
       "HIP00169  0.000746  0.000999  0.000818  0.000830  0.000479  0.000522  0.000778\n",
       "HIP00594  0.001526  0.001333  0.001460  0.001640  0.000799  0.001088  0.002464\n",
       "HIP00602  0.001760  0.001427  0.001588  0.001746  0.001491  0.001554  0.001751\n",
       "HIP00614  0.000919  0.000703  0.000760  0.001090  0.001438  0.001221  0.000519"
      ]
     },
     "execution_count": 287,
     "metadata": {},
     "output_type": "execute_result"
    }
   ],
   "source": [
    "#merge samples with clonotypes\n",
    "merge_ =  vert_class.merge(samp1, on='cdr', how='inner')\n",
    "\n",
    "#summ clonotypes by sample and cluster\n",
    "merge_['count'] = 1\n",
    "new = pd.DataFrame(merge_.groupby(by=['samp', 'class'])['count'].sum()).reset_index()\n",
    "new1 = new.pivot_table(index=['samp'], columns='class').reset_index()\n",
    "new1.columns = new1.columns.droplevel()\n",
    "new1.columns = ['sample', 'claster0', 'claster1', 'claster2', 'claster3', 'claster4', 'claster5', 'claster0']\n",
    "new2 = new1.set_index('sample')\n",
    "new2.index.name = None\n",
    "\n",
    "#normalize by summ clonotypes in column\n",
    "for el in new2.columns:\n",
    "    new2[el] = new2[el]/new2[el].sum()\n",
    "    \n",
    "new2[0:5]"
   ]
  },
  {
   "cell_type": "code",
   "execution_count": null,
   "metadata": {
    "collapsed": true
   },
   "outputs": [],
   "source": [
    "#PUBLIC_HLA_SAMPLE.txt"
   ]
  },
  {
   "cell_type": "code",
   "execution_count": 288,
   "metadata": {
    "collapsed": false
   },
   "outputs": [
    {
     "data": {
      "text/plain": [
       "<seaborn.matrix.ClusterGrid at 0x7f48304e85c0>"
      ]
     },
     "execution_count": 288,
     "metadata": {},
     "output_type": "execute_result"
    },
    {
     "data": {
      "image/png": "[encoded data removed]",
      "text/plain": [
       "<matplotlib.figure.Figure at 0x7f485c4fdfd0>"
      ]
     },
     "metadata": {},
     "output_type": "display_data"
    }
   ],
   "source": [
    "sns.set(font_scale=0.5)\n",
    "sns.clustermap(new2)"
   ]
  },
  {
   "cell_type": "code",
   "execution_count": null,
   "metadata": {
    "collapsed": true
   },
   "outputs": [],
   "source": []
  }
 ],
 "metadata": {
  "anaconda-cloud": {},
  "kernelspec": {
   "display_name": "Python [conda root]",
   "language": "python",
   "name": "conda-root-py"
  },
  "language_info": {
   "codemirror_mode": {
    "name": "ipython",
    "version": 3
   },
   "file_extension": ".py",
   "mimetype": "text/x-python",
   "name": "python",
   "nbconvert_exporter": "python",
   "pygments_lexer": "ipython3",
   "version": "3.5.2"
  }
 },
 "nbformat": 4,
 "nbformat_minor": 1
}
