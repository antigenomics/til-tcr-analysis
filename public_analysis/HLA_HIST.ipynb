{
 "cells": [
  {
   "cell_type": "code",
   "execution_count": 49,
   "metadata": {
    "collapsed": false
   },
   "outputs": [],
   "source": [
    "%matplotlib inline\n",
    "import numpy as np\n",
    "import scipy\n",
    "import pandas as pd\n",
    "import matplotlib.pyplot as plt\n",
    "import collections\n",
    "from collections import defaultdict\n",
    "import seaborn as sns\n",
    "import itertools\n",
    "import scipy.cluster.hierarchy as hac\n",
    "import matplotlib.pyplot as plt\n",
    "#from sklearn import *"
   ]
  },
  {
   "cell_type": "code",
   "execution_count": 50,
   "metadata": {
    "collapsed": false
   },
   "outputs": [],
   "source": [
    "#data with hla's and cdr\n",
    "#cdr A2,B1,A28.... (from multiple samples)\n",
    "data = pd.read_csv('tmp7.txt', sep=\"\\t\")\n",
    "\n",
    "data_a = data[['cdr', 'hla']]\n",
    "data_a.columns = ['a', 'hla_a']\n",
    "data_b = data[['cdr', 'hla']]\n",
    "data_b.columns = ['b', 'hla_b']\n",
    "\n",
    "#graph pairs\n",
    "#file with edges after multiple testing cut\n",
    "pairs = pd.read_csv(\"new_pvals_adjust_0_1.txt\", sep=\"\\t\")\n",
    "pairs2 = pairs[['a', 'b']]\n",
    "\n",
    "#list of all cdrs in graph\n",
    "c = list(set(pairs2['b'].tolist() + pairs2['a'].tolist()))\n",
    "\n",
    "tmp = pairs2.merge(data_a, on='a', how='inner').merge(data_b, on='b', how='inner')\n",
    "tmp.to_csv(\"EDGES_HLA.txt\", sep=\"\\t\", index=False)\n",
    "\n",
    "#make shuffle pairs\n",
    "import itertools\n",
    "import random\n",
    "shuff = random.sample(list(itertools.combinations(c, 2)), 466356)\n",
    "\n",
    "df = pd.DataFrame(shuff, columns=['a', 'b'])\n",
    "df2 = df.merge(data_a, on='a', how='inner').merge(data_b, on='b', how='inner')\n",
    "df2.to_csv(\"SHUFFLED_HLA.txt\", sep=\"\\t\", index=False)"
   ]
  },
  {
   "cell_type": "markdown",
   "metadata": {},
   "source": [
    "# HIST: HLA intersection berween pairs in graph"
   ]
  },
  {
   "cell_type": "code",
   "execution_count": 52,
   "metadata": {
    "collapsed": false
   },
   "outputs": [
    {
     "data": {
      "image/png": "[encoded data removed]",
      "text/plain": [
       "<matplotlib.figure.Figure at 0x7f45dbaac198>"
      ]
     },
     "metadata": {},
     "output_type": "display_data"
    }
   ],
   "source": [
    "pen = {}\n",
    "with open(\"EDGES_HLA.txt\", 'r') as f:\n",
    "    for line in f.readlines():\n",
    "        if line.find(\"hla\") == -1:\n",
    "            l = line.split(\"\\t\")\n",
    "            key = (l[0], l[1])\n",
    "            sp1 = l[2].split(\",\")\n",
    "            sp2 = l[3].split(\",\")\n",
    "            inters = set(sp1).intersection(sp2)        \n",
    "            pen[key] = len(inters)    \n",
    "            \n",
    "pen1 = {}\n",
    "with open(\"SHUFFLED_HLA.txt\", 'r') as f:\n",
    "    for line in f.readlines():\n",
    "        l = line.split(\"\\t\")\n",
    "        if line.find(\"hla\") == -1:\n",
    "            key = (l[0], l[1])\n",
    "            sp1 = l[2].split(\",\")\n",
    "            sp2 = l[3].split(\",\")\n",
    "            inters = set(sp1).intersection(sp2)        \n",
    "            pen1[key] = len(inters) \n",
    "            \n",
    "HLA_intertsect1 = []\n",
    "for k, v in pen1.items():\n",
    "    HLA_intertsect1.append(v)\n",
    "    \n",
    "HLA_intertsect = []\n",
    "for k, v in pen.items():\n",
    "    HLA_intertsect.append(v)\n",
    "    \n",
    "fig = plt.figure()\n",
    "\n",
    "ax1 = fig.add_subplot(211)\n",
    "plt.hist(HLA_intertsect1, normed=True, bins=34, color='blue')\n",
    "plt.title(\"HLA intersection for SHUFFLED pairs\")\n",
    "\n",
    "ax2 = fig.add_subplot(212)\n",
    "plt.hist(HLA_intertsect, normed=True, bins=34, color='green')\n",
    "plt.title(\"HLA intersection for real pairs\")\n",
    "\n",
    "fig.tight_layout()\n",
    "plt.show()"
   ]
  },
  {
   "cell_type": "markdown",
   "metadata": {},
   "source": [
    "# KOLMOGOROV-SMIRNOV"
   ]
  },
  {
   "cell_type": "code",
   "execution_count": 48,
   "metadata": {
    "collapsed": false
   },
   "outputs": [
    {
     "data": {
      "text/plain": [
       "Ks_2sampResult(statistic=0.34484385319369754, pvalue=0.0)"
      ]
     },
     "execution_count": 48,
     "metadata": {},
     "output_type": "execute_result"
    }
   ],
   "source": [
    "from scipy.stats import ks_2samp\n",
    "ks_2samp(HLA_intertsect, HLA_intertsect1)\n",
    "#pvalue=0.0"
   ]
  },
  {
   "cell_type": "code",
   "execution_count": null,
   "metadata": {
    "collapsed": true
   },
   "outputs": [],
   "source": []
  },
  {
   "cell_type": "code",
   "execution_count": null,
   "metadata": {
    "collapsed": true
   },
   "outputs": [],
   "source": []
  },
  {
   "cell_type": "code",
   "execution_count": null,
   "metadata": {
    "collapsed": true
   },
   "outputs": [],
   "source": []
  },
  {
   "cell_type": "code",
   "execution_count": null,
   "metadata": {
    "collapsed": true
   },
   "outputs": [],
   "source": []
  },
  {
   "cell_type": "code",
   "execution_count": null,
   "metadata": {
    "collapsed": true
   },
   "outputs": [],
   "source": []
  },
  {
   "cell_type": "code",
   "execution_count": null,
   "metadata": {
    "collapsed": true
   },
   "outputs": [],
   "source": []
  }
 ],
 "metadata": {
  "anaconda-cloud": {},
  "kernelspec": {
   "display_name": "Python [conda root]",
   "language": "python",
   "name": "conda-root-py"
  },
  "language_info": {
   "codemirror_mode": {
    "name": "ipython",
    "version": 3
   },
   "file_extension": ".py",
   "mimetype": "text/x-python",
   "name": "python",
   "nbconvert_exporter": "python",
   "pygments_lexer": "ipython3",
   "version": "3.5.3"
  }
 },
 "nbformat": 4,
 "nbformat_minor": 1
}
