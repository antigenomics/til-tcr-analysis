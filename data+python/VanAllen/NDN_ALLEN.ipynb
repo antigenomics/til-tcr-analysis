{
 "metadata": {
  "name": "",
  "signature": "sha256:e7a73c3e40cef91fc355b0bc7c5f8aeecc4b89460df8f32b92ab960600eb72a5"
 },
 "nbformat": 3,
 "nbformat_minor": 0,
 "worksheets": [
  {
   "cells": [
    {
     "cell_type": "heading",
     "level": 1,
     "metadata": {},
     "source": [
      "NDN"
     ]
    },
    {
     "cell_type": "heading",
     "level": 3,
     "metadata": {},
     "source": [
      "box-plot"
     ]
    },
    {
     "cell_type": "code",
     "collapsed": false,
     "input": [
      "import numpy as np\n",
      "import matplotlib.pyplot as plt\n",
      "import plotly.plotly as py\n",
      "py.sign_in('azulen', 'fbpirdl45l')\n",
      "import plotly.graph_objs as go\n",
      "import collections \n",
      "\n",
      "filenames_response = []\n",
      "filenames_nonresponse = []\n",
      "with open(\"metadata.txt\", \"r\") as f:\n",
      "    for line in f.readlines():\n",
      "        l = line.split(\"\\t\")\n",
      "        name = l[0]\n",
      "        resp = l[2]        \n",
      "        if resp == \"response\":\n",
      "            if name != \"file_name\":\n",
      "                filenames_response.append(name)\n",
      "        if resp == \"nonresponse\":\n",
      "            if name != \"file_name\":\n",
      "                filenames_nonresponse.append(name)  \n",
      "                \n",
      "                \n",
      "insert1 = collections.defaultdict(list)\n",
      "sp = []\n",
      "\n",
      "for el in filenames_nonresponse:\n",
      "    with open(el, \"r\") as f:\n",
      "        insertsize = []\n",
      "        for line in f.readlines():\n",
      "            l = line.split(\"\\t\")\n",
      "            if l[0] != \"count\":\n",
      "                b = float(l[11])\n",
      "                insertsize.append(float(l[11]))\n",
      "        if len(insertsize) != 0:\n",
      "            avg = sum(insertsize)/len(insertsize)\n",
      "            sp.append(avg)\n",
      "            \n",
      "            \n",
      "insert1[\"nonresponse\"] = sp \n",
      "\n",
      "\n",
      "insert2 = collections.defaultdict(list)\n",
      "sp1 = []\n",
      "\n",
      "for el in filenames_response:\n",
      "    with open(el, \"r\") as f:\n",
      "        insertsize = []\n",
      "        for line in f.readlines():\n",
      "            l = line.split(\"\\t\")\n",
      "            if l[0] != \"count\":\n",
      "                b = float(l[11])\n",
      "                insertsize.append(float(l[11]))\n",
      "        if len(insertsize) != 0:\n",
      "            avg = sum(insertsize)/len(insertsize)\n",
      "            sp1.append(avg)\n",
      "            \n",
      "            \n",
      "insert2[\"response\"] = sp1 \n",
      "\n",
      "x_ndn = []\n",
      "y_ndn = []\n",
      "x_ndn_no = []\n",
      "y_ndn_no = []\n",
      "\n",
      "insert1.update(insert2)                  \n",
      "for key, val in insert1.items():\n",
      "    if key == \"response\":\n",
      "        x_ndn.append(key)\n",
      "        y_ndn.append(val)\n",
      "    else:\n",
      "        x_ndn_no.append(key)\n",
      "        y_ndn_no.append(val)      \n",
      "        \n",
      "traces = []\n",
      "\n",
      "for xd, yd in zip(x_ndn, y_ndn):\n",
      "        traces.append(go.Box(\n",
      "            y=yd,\n",
      "            name=xd,\n",
      "            #boxpoints='all',\n",
      "            jitter=0.5,\n",
      "            whiskerwidth=0.2,   \n",
      "            marker=dict(\n",
      "                color = 'rgb(214, 12, 140)',\n",
      "            ),\n",
      "            line=dict(width=1),\n",
      "        ))        \n",
      "\n",
      "for xd, yd in zip(x_ndn_no, y_ndn_no):\n",
      "        traces.append(go.Box(\n",
      "            y=yd,\n",
      "            name=xd,\n",
      "            #boxpoints='all',\n",
      "            jitter=0.5,\n",
      "            whiskerwidth=0.2,   \n",
      "            marker=dict(\n",
      "                color = 'rgb(0, 128, 128)',\n",
      "            ),\n",
      "            line=dict(width=1),\n",
      "        ))  \n",
      "        \n",
      "        \n",
      "layout = go.Layout(title = 'Ndn_size', showlegend=False)\n",
      "\n",
      "fig = go.Figure(data=traces, layout = layout)\n",
      "py.iplot(fig)      "
     ],
     "language": "python",
     "metadata": {},
     "outputs": [
      {
       "ename": "PlotlyError",
       "evalue": "Aw, snap! You tried to use our API as the user 'azulen', but the supplied API key doesn't match our records. You can view your API key at plot.ly/settings.\n\nYou're most likely getting this message because your local credentials file isn't synced with the Plotly server you're communicating with.\n\nGo to plot.ly/<language>/getting-started (e.g., plot.ly/python/getting-started) for more information.\n\nMake sure that you're logged in as azulen.\n\nNeed help? Please try searching Plotly's <a href='http://stackoverflow.com/questions/tagged/plotly'>Stack Overflow channel</a>.",
       "output_type": "pyerr",
       "traceback": [
        "\u001b[0;31m---------------------------------------------------------------------------\u001b[0m\n\u001b[0;31mPlotlyError\u001b[0m                               Traceback (most recent call last)",
        "\u001b[0;32m<ipython-input-1-923a110b5725>\u001b[0m in \u001b[0;36m<module>\u001b[0;34m()\u001b[0m\n\u001b[1;32m    104\u001b[0m \u001b[0;34m\u001b[0m\u001b[0m\n\u001b[1;32m    105\u001b[0m \u001b[0mfig\u001b[0m \u001b[0;34m=\u001b[0m \u001b[0mgo\u001b[0m\u001b[0;34m.\u001b[0m\u001b[0mFigure\u001b[0m\u001b[0;34m(\u001b[0m\u001b[0mdata\u001b[0m\u001b[0;34m=\u001b[0m\u001b[0mtraces\u001b[0m\u001b[0;34m,\u001b[0m \u001b[0mlayout\u001b[0m \u001b[0;34m=\u001b[0m \u001b[0mlayout\u001b[0m\u001b[0;34m)\u001b[0m\u001b[0;34m\u001b[0m\u001b[0m\n\u001b[0;32m--> 106\u001b[0;31m \u001b[0mpy\u001b[0m\u001b[0;34m.\u001b[0m\u001b[0miplot\u001b[0m\u001b[0;34m(\u001b[0m\u001b[0mfig\u001b[0m\u001b[0;34m)\u001b[0m\u001b[0;34m\u001b[0m\u001b[0m\n\u001b[0m",
        "\u001b[0;32m/usr/local/lib/python3.4/dist-packages/plotly/plotly/plotly.py\u001b[0m in \u001b[0;36miplot\u001b[0;34m(figure_or_data, **plot_options)\u001b[0m\n\u001b[1;32m    149\u001b[0m     \u001b[0;32mif\u001b[0m \u001b[0;34m'auto_open'\u001b[0m \u001b[0;32mnot\u001b[0m \u001b[0;32min\u001b[0m \u001b[0mplot_options\u001b[0m\u001b[0;34m:\u001b[0m\u001b[0;34m\u001b[0m\u001b[0m\n\u001b[1;32m    150\u001b[0m         \u001b[0mplot_options\u001b[0m\u001b[0;34m[\u001b[0m\u001b[0;34m'auto_open'\u001b[0m\u001b[0;34m]\u001b[0m \u001b[0;34m=\u001b[0m \u001b[0;32mFalse\u001b[0m\u001b[0;34m\u001b[0m\u001b[0m\n\u001b[0;32m--> 151\u001b[0;31m     \u001b[0murl\u001b[0m \u001b[0;34m=\u001b[0m \u001b[0mplot\u001b[0m\u001b[0;34m(\u001b[0m\u001b[0mfigure_or_data\u001b[0m\u001b[0;34m,\u001b[0m \u001b[0;34m**\u001b[0m\u001b[0mplot_options\u001b[0m\u001b[0;34m)\u001b[0m\u001b[0;34m\u001b[0m\u001b[0m\n\u001b[0m\u001b[1;32m    152\u001b[0m \u001b[0;34m\u001b[0m\u001b[0m\n\u001b[1;32m    153\u001b[0m     \u001b[0;32mif\u001b[0m \u001b[0misinstance\u001b[0m\u001b[0;34m(\u001b[0m\u001b[0mfigure_or_data\u001b[0m\u001b[0;34m,\u001b[0m \u001b[0mdict\u001b[0m\u001b[0;34m)\u001b[0m\u001b[0;34m:\u001b[0m\u001b[0;34m\u001b[0m\u001b[0m\n",
        "\u001b[0;32m/usr/local/lib/python3.4/dist-packages/plotly/plotly/plotly.py\u001b[0m in \u001b[0;36mplot\u001b[0;34m(figure_or_data, validate, **plot_options)\u001b[0m\n\u001b[1;32m    239\u001b[0m \u001b[0;34m\u001b[0m\u001b[0m\n\u001b[1;32m    240\u001b[0m     \u001b[0mplot_options\u001b[0m \u001b[0;34m=\u001b[0m \u001b[0m_plot_option_logic\u001b[0m\u001b[0;34m(\u001b[0m\u001b[0mplot_options\u001b[0m\u001b[0;34m)\u001b[0m\u001b[0;34m\u001b[0m\u001b[0m\n\u001b[0;32m--> 241\u001b[0;31m     \u001b[0mres\u001b[0m \u001b[0;34m=\u001b[0m \u001b[0m_send_to_plotly\u001b[0m\u001b[0;34m(\u001b[0m\u001b[0mfigure\u001b[0m\u001b[0;34m,\u001b[0m \u001b[0;34m**\u001b[0m\u001b[0mplot_options\u001b[0m\u001b[0;34m)\u001b[0m\u001b[0;34m\u001b[0m\u001b[0m\n\u001b[0m\u001b[1;32m    242\u001b[0m     \u001b[0;32mif\u001b[0m \u001b[0mres\u001b[0m\u001b[0;34m[\u001b[0m\u001b[0;34m'error'\u001b[0m\u001b[0;34m]\u001b[0m \u001b[0;34m==\u001b[0m \u001b[0;34m''\u001b[0m\u001b[0;34m:\u001b[0m\u001b[0;34m\u001b[0m\u001b[0m\n\u001b[1;32m    243\u001b[0m         \u001b[0;32mif\u001b[0m \u001b[0mplot_options\u001b[0m\u001b[0;34m[\u001b[0m\u001b[0;34m'auto_open'\u001b[0m\u001b[0;34m]\u001b[0m\u001b[0;34m:\u001b[0m\u001b[0;34m\u001b[0m\u001b[0m\n",
        "\u001b[0;32m/usr/local/lib/python3.4/dist-packages/plotly/plotly/plotly.py\u001b[0m in \u001b[0;36m_send_to_plotly\u001b[0;34m(figure, **plot_options)\u001b[0m\n\u001b[1;32m   1429\u001b[0m \u001b[0;34m\u001b[0m\u001b[0m\n\u001b[1;32m   1430\u001b[0m     \u001b[0;32mif\u001b[0m \u001b[0;34m'error'\u001b[0m \u001b[0;32min\u001b[0m \u001b[0mr\u001b[0m \u001b[0;32mand\u001b[0m \u001b[0mr\u001b[0m\u001b[0;34m[\u001b[0m\u001b[0;34m'error'\u001b[0m\u001b[0;34m]\u001b[0m \u001b[0;34m!=\u001b[0m \u001b[0;34m''\u001b[0m\u001b[0;34m:\u001b[0m\u001b[0;34m\u001b[0m\u001b[0m\n\u001b[0;32m-> 1431\u001b[0;31m         \u001b[0;32mraise\u001b[0m \u001b[0mexceptions\u001b[0m\u001b[0;34m.\u001b[0m\u001b[0mPlotlyError\u001b[0m\u001b[0;34m(\u001b[0m\u001b[0mr\u001b[0m\u001b[0;34m[\u001b[0m\u001b[0;34m'error'\u001b[0m\u001b[0;34m]\u001b[0m\u001b[0;34m)\u001b[0m\u001b[0;34m\u001b[0m\u001b[0m\n\u001b[0m\u001b[1;32m   1432\u001b[0m \u001b[0;34m\u001b[0m\u001b[0m\n\u001b[1;32m   1433\u001b[0m     \u001b[0;31m# Check if the url needs a secret key\u001b[0m\u001b[0;34m\u001b[0m\u001b[0;34m\u001b[0m\u001b[0m\n",
        "\u001b[0;31mPlotlyError\u001b[0m: Aw, snap! You tried to use our API as the user 'azulen', but the supplied API key doesn't match our records. You can view your API key at plot.ly/settings.\n\nYou're most likely getting this message because your local credentials file isn't synced with the Plotly server you're communicating with.\n\nGo to plot.ly/<language>/getting-started (e.g., plot.ly/python/getting-started) for more information.\n\nMake sure that you're logged in as azulen.\n\nNeed help? Please try searching Plotly's <a href='http://stackoverflow.com/questions/tagged/plotly'>Stack Overflow channel</a>."
       ]
      }
     ],
     "prompt_number": 1
    },
    {
     "cell_type": "code",
     "collapsed": false,
     "input": [
      "py.image.save_as(fig, filename='ndn_allen_box_plot.png')"
     ],
     "language": "python",
     "metadata": {},
     "outputs": []
    },
    {
     "cell_type": "heading",
     "level": 3,
     "metadata": {},
     "source": [
      "T-test"
     ]
    },
    {
     "cell_type": "code",
     "collapsed": false,
     "input": [
      "response = sp1\n",
      "nonresponse = sp\n",
      "\n",
      "st_dev = np.std(response)\n",
      "st_dev2 = np.std(nonresponse)"
     ],
     "language": "python",
     "metadata": {},
     "outputs": []
    },
    {
     "cell_type": "code",
     "collapsed": false,
     "input": [
      "st_dev"
     ],
     "language": "python",
     "metadata": {},
     "outputs": []
    },
    {
     "cell_type": "code",
     "collapsed": false,
     "input": [
      "st_dev2"
     ],
     "language": "python",
     "metadata": {},
     "outputs": []
    },
    {
     "cell_type": "code",
     "collapsed": false,
     "input": [
      "from scipy import stats\n",
      "stats.ttest_ind(response, nonresponse, equal_var = False)"
     ],
     "language": "python",
     "metadata": {},
     "outputs": []
    },
    {
     "cell_type": "markdown",
     "metadata": {},
     "source": [
      "Ttest_indResult(statistic=0.22134153136090273, pvalue=0.82621475324808547)"
     ]
    },
    {
     "cell_type": "heading",
     "level": 3,
     "metadata": {},
     "source": [
      "Histogram"
     ]
    },
    {
     "cell_type": "code",
     "collapsed": false,
     "input": [
      "#data\n",
      "\n",
      "import plotly.plotly as py\n",
      "import numpy as np\n",
      "import plotly.graph_objs as go\n",
      "import numpy as np\n",
      "\n",
      "resp1 = []\n",
      "nonresp1 = []\n",
      "\n",
      "\n",
      "for el in filenames_response:\n",
      "    with open(el, \"r\") as f:\n",
      "        for line in f.readlines():\n",
      "            l = line.split(\"\\t\")\n",
      "            if l[0] != \"count\":\n",
      "                b = float(l[11])\n",
      "                resp1.append(b)\n",
      "\n",
      "resp = []\n",
      "sum_resp = sum(resp1)\n",
      "for el in resp1:\n",
      "    resp.append(el/sum_resp)\n",
      "                    \n",
      "                \n",
      "for el in filenames_nonresponse:\n",
      "    with open(el, \"r\") as f:\n",
      "        for line in f.readlines():\n",
      "            l = line.split(\"\\t\")\n",
      "            if l[0] != \"count\":\n",
      "                b = float(l[11])\n",
      "                nonresp1.append(b)  \n",
      "                    \n",
      "                    \n",
      "nonresp = []\n",
      "sum_nonresp = sum(nonresp1)\n",
      "for el in nonresp1:\n",
      "    nonresp.append(el/sum_resp)\n",
      "\n",
      "#histogram    \n",
      "    \n",
      "trace1 = go.Histogram(\n",
      "    name = 'response',\n",
      "    x=resp,\n",
      "    opacity=0.75\n",
      ")\n",
      "\n",
      "trace2 = go.Histogram(\n",
      "    name = 'nonresponse',\n",
      "    x=nonresp,\n",
      "    opacity=0.75\n",
      ")\n",
      "\n",
      "\n",
      "data = [trace1, trace2]\n",
      "layout = go.Layout(\n",
      "    barmode='overlay'\n",
      ")\n",
      "fig = go.Figure(data=data, layout=layout)\n",
      "py.iplot(fig)"
     ],
     "language": "python",
     "metadata": {},
     "outputs": []
    },
    {
     "cell_type": "code",
     "collapsed": false,
     "input": [
      "py.image.save_as(fig, filename='ndn_allen_hist.png')"
     ],
     "language": "python",
     "metadata": {},
     "outputs": []
    },
    {
     "cell_type": "heading",
     "level": 3,
     "metadata": {},
     "source": [
      "Kolmogorov-Smirnov test"
     ]
    },
    {
     "cell_type": "code",
     "collapsed": false,
     "input": [
      "from scipy.stats import ks_2samp\n",
      "import numpy as np\n",
      "\n",
      "ks_2samp(resp, nonresp)"
     ],
     "language": "python",
     "metadata": {},
     "outputs": []
    },
    {
     "cell_type": "markdown",
     "metadata": {},
     "source": [
      "Ks_2sampResult(statistic=0.052023852833710249, pvalue=0.71212483233371671)"
     ]
    },
    {
     "cell_type": "heading",
     "level": 3,
     "metadata": {},
     "source": [
      "CDF (cumulative distribution function)"
     ]
    },
    {
     "cell_type": "code",
     "collapsed": false,
     "input": [
      "import numpy as np\n",
      "import matplotlib.pyplot as plt\n",
      "\n",
      "a = np.array(resp) \n",
      "num_bins = 20\n",
      "counts, bin_edges = np.histogram(a, bins=num_bins, normed=True)\n",
      "cdf = np.cumsum(counts)\n",
      "line_up, = plt.plot(bin_edges[1:], cdf, label=\"response\", color = \"blue\")\n",
      "\n",
      "a = np.array(nonresp) \n",
      "num_bins = 20\n",
      "counts, bin_edges = np.histogram(a, bins=num_bins, normed=True)\n",
      "cdf = np.cumsum(counts)\n",
      "line_down, = plt.plot(bin_edges[1:], cdf,  label=\"nonresponse\", color=\"green\")\n",
      "\n",
      "\n",
      "plt.legend(handles=[line_up, line_down], loc = 'lower right')\n",
      "plt.title(\"CDF_ndn_allen\")\n",
      "plt.show()"
     ],
     "language": "python",
     "metadata": {},
     "outputs": []
    },
    {
     "cell_type": "code",
     "collapsed": false,
     "input": [
      "plt.savefig('CDF_ndn_size_allen.png')"
     ],
     "language": "python",
     "metadata": {},
     "outputs": []
    }
   ],
   "metadata": {}
  }
 ]
}