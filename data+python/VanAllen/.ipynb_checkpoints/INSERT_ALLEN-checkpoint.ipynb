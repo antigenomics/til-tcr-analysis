{
 "metadata": {
  "name": "",
  "signature": "sha256:da5d861fcf21bf18252481eaaaabcd21ddd8686bfaad1d86c963b1a2546fa155"
 },
 "nbformat": 3,
 "nbformat_minor": 0,
 "worksheets": [
  {
   "cells": [
    {
     "cell_type": "heading",
     "level": 1,
     "metadata": {},
     "source": [
      "INSERT_SIZE"
     ]
    },
    {
     "cell_type": "heading",
     "level": 3,
     "metadata": {},
     "source": [
      "box-plot"
     ]
    },
    {
     "cell_type": "code",
     "collapsed": false,
     "input": [
      "import numpy as np\n",
      "import matplotlib.pyplot as plt\n",
      "import plotly.plotly as py\n",
      "py.sign_in('azulen2', 'n3bcthef3d')\n",
      "import plotly.graph_objs as go\n",
      "import collections \n",
      "\n",
      "filenames_response = []\n",
      "filenames_nonresponse = []\n",
      "with open(\"metadata.txt\", \"r\") as f:\n",
      "    for line in f.readlines():\n",
      "        l = line.split(\"\\t\")\n",
      "        name = l[0]\n",
      "        resp = l[2]        \n",
      "        if resp == \"response\":\n",
      "            if name != \"file_name\":\n",
      "                filenames_response.append(name)\n",
      "        if resp == \"nonresponse\":\n",
      "            if name != \"file_name\":\n",
      "                filenames_nonresponse.append(name)  \n",
      "                \n",
      "                \n",
      "insert1 = collections.defaultdict(list)\n",
      "sp = []\n",
      "\n",
      "for el in filenames_nonresponse:\n",
      "    with open(el, \"r\") as f:\n",
      "        insertsize = []\n",
      "        for line in f.readlines():\n",
      "            l = line.split(\"\\t\")\n",
      "            if l[0] != \"count\":\n",
      "                if l[12] != \"-1\":\n",
      "                    b = float(l[12])\n",
      "                    insertsize.append(float(l[12]))\n",
      "        if len(insertsize) != 0:\n",
      "            avg = sum(insertsize)/len(insertsize)\n",
      "            sp.append(avg)\n",
      "            \n",
      "            \n",
      "insert1[\"nonresponse\"] = sp \n",
      "\n",
      "\n",
      "insert2 = collections.defaultdict(list)\n",
      "sp1 = []\n",
      "\n",
      "for el in filenames_response:\n",
      "    with open(el, \"r\") as f:\n",
      "        insertsize = []\n",
      "        for line in f.readlines():\n",
      "            l = line.split(\"\\t\")\n",
      "            if l[0] != \"count\":\n",
      "                if l[12] != \"-1\":\n",
      "                    b = float(l[12])\n",
      "                    insertsize.append(float(l[12]))\n",
      "        if len(insertsize) != 0:\n",
      "            avg = sum(insertsize)/len(insertsize)\n",
      "            sp1.append(avg)\n",
      "            \n",
      "            \n",
      "insert2[\"response\"] = sp1 \n",
      "\n",
      "x_ndn = []\n",
      "y_ndn = []\n",
      "x_ndn_no = []\n",
      "y_ndn_no = []\n",
      "\n",
      "insert1.update(insert2)                  \n",
      "for key, val in insert1.items():\n",
      "    if key == \"response\":\n",
      "        x_ndn.append(key)\n",
      "        y_ndn.append(val)\n",
      "    else:\n",
      "        x_ndn_no.append(key)\n",
      "        y_ndn_no.append(val)      \n",
      "        \n",
      "traces = []\n",
      "\n",
      "for xd, yd in zip(x_ndn, y_ndn):\n",
      "        traces.append(go.Box(\n",
      "            y=yd,\n",
      "            name=xd,\n",
      "            #boxpoints='all',\n",
      "            jitter=0.5,\n",
      "            whiskerwidth=0.2,   \n",
      "            marker=dict(\n",
      "                color = 'rgb(214, 12, 140)',\n",
      "            ),\n",
      "            line=dict(width=1),\n",
      "        ))        \n",
      "\n",
      "for xd, yd in zip(x_ndn_no, y_ndn_no):\n",
      "        traces.append(go.Box(\n",
      "            y=yd,\n",
      "            name=xd,\n",
      "            #boxpoints='all',\n",
      "            jitter=0.5,\n",
      "            whiskerwidth=0.2,   \n",
      "            marker=dict(\n",
      "                color = 'rgb(0, 128, 128)',\n",
      "            ),\n",
      "            line=dict(width=1),\n",
      "        ))  \n",
      "        \n",
      "        \n",
      "layout = go.Layout(title = 'Ndn_size', showlegend=False)\n",
      "\n",
      "fig = go.Figure(data=traces, layout = layout)\n",
      "py.iplot(fig)      "
     ],
     "language": "python",
     "metadata": {},
     "outputs": [
      {
       "html": [
        "<iframe id=\"igraph\" scrolling=\"no\" style=\"border:none;\" seamless=\"seamless\" src=\"https://plot.ly/~azulen2/64.embed\" height=\"525px\" width=\"100%\"></iframe>"
       ],
       "metadata": {},
       "output_type": "pyout",
       "prompt_number": 4,
       "text": [
        "<plotly.tools.PlotlyDisplay at 0x7f3c76e72c18>"
       ]
      }
     ],
     "prompt_number": 4
    },
    {
     "cell_type": "code",
     "collapsed": false,
     "input": [
      "py.image.save_as(fig, filename='insert_allen_box_plot.png')"
     ],
     "language": "python",
     "metadata": {},
     "outputs": [],
     "prompt_number": 5
    },
    {
     "cell_type": "heading",
     "level": 3,
     "metadata": {},
     "source": [
      "T-test"
     ]
    },
    {
     "cell_type": "code",
     "collapsed": false,
     "input": [
      "response = sp1\n",
      "nonresponse = sp\n",
      "\n",
      "st_dev = np.std(response)\n",
      "st_dev2 = np.std(nonresponse)"
     ],
     "language": "python",
     "metadata": {},
     "outputs": [],
     "prompt_number": 6
    },
    {
     "cell_type": "code",
     "collapsed": false,
     "input": [
      "st_dev"
     ],
     "language": "python",
     "metadata": {},
     "outputs": [
      {
       "metadata": {},
       "output_type": "pyout",
       "prompt_number": 7,
       "text": [
        "1.1018219233930533"
       ]
      }
     ],
     "prompt_number": 7
    },
    {
     "cell_type": "code",
     "collapsed": false,
     "input": [
      "st_dev2"
     ],
     "language": "python",
     "metadata": {},
     "outputs": [
      {
       "metadata": {},
       "output_type": "pyout",
       "prompt_number": 8,
       "text": [
        "1.3833859842867964"
       ]
      }
     ],
     "prompt_number": 8
    },
    {
     "cell_type": "markdown",
     "metadata": {},
     "source": [
      "t-test for unequal variance"
     ]
    },
    {
     "cell_type": "code",
     "collapsed": false,
     "input": [
      "from scipy import stats\n",
      "stats.ttest_ind(response, nonresponse, equal_var = False)"
     ],
     "language": "python",
     "metadata": {},
     "outputs": [
      {
       "metadata": {},
       "output_type": "pyout",
       "prompt_number": 9,
       "text": [
        "Ttest_indResult(statistic=-4.2706111753912195, pvalue=0.00018684470674957044)"
       ]
      }
     ],
     "prompt_number": 9
    },
    {
     "cell_type": "markdown",
     "metadata": {},
     "source": [
      "p_val > statisic => equal means"
     ]
    },
    {
     "cell_type": "heading",
     "level": 3,
     "metadata": {},
     "source": [
      "Histogram"
     ]
    },
    {
     "cell_type": "code",
     "collapsed": false,
     "input": [
      "#data\n",
      "\n",
      "import plotly.plotly as py\n",
      "import numpy as np\n",
      "import plotly.graph_objs as go\n",
      "import numpy as np\n",
      "\n",
      "resp1 = []\n",
      "nonresp1 = []\n",
      "\n",
      "\n",
      "for el in filenames_response:\n",
      "    with open(el, \"r\") as f:\n",
      "        for line in f.readlines():\n",
      "            l = line.split(\"\\t\")\n",
      "            if l[0] != \"count\":\n",
      "                if l[12] != \"-1\":\n",
      "                    b = float(l[12])\n",
      "                    resp1.append(b)\n",
      "\n",
      "resp = []\n",
      "sum_resp = sum(resp1)\n",
      "for el in resp1:\n",
      "    resp.append(el/sum_resp)\n",
      "                    \n",
      "                \n",
      "for el in filenames_nonresponse:\n",
      "    with open(el, \"r\") as f:\n",
      "        for line in f.readlines():\n",
      "            l = line.split(\"\\t\")\n",
      "            if l[0] != \"count\":\n",
      "                if l[12] != \"-1\":\n",
      "                    b = float(l[12])\n",
      "                    nonresp1.append(b)  \n",
      "                    \n",
      "                    \n",
      "nonresp = []\n",
      "sum_nonresp = sum(nonresp1)\n",
      "for el in nonresp1:\n",
      "    nonresp.append(el/sum_resp)\n",
      "\n",
      "#histogram    \n",
      "    \n",
      "trace1 = go.Histogram(\n",
      "    name = 'response',\n",
      "    x=resp,\n",
      "    opacity=0.75\n",
      ")\n",
      "\n",
      "trace2 = go.Histogram(\n",
      "    name = 'nonresponse',\n",
      "    x=nonresp,\n",
      "    opacity=0.75\n",
      ")\n",
      "\n",
      "\n",
      "data = [trace1, trace2]\n",
      "layout = go.Layout(\n",
      "    barmode='overlay'\n",
      ")\n",
      "fig = go.Figure(data=data, layout=layout)\n",
      "py.iplot(fig)"
     ],
     "language": "python",
     "metadata": {},
     "outputs": [
      {
       "html": [
        "<iframe id=\"igraph\" scrolling=\"no\" style=\"border:none;\" seamless=\"seamless\" src=\"https://plot.ly/~azulen2/66.embed\" height=\"525px\" width=\"100%\"></iframe>"
       ],
       "metadata": {},
       "output_type": "pyout",
       "prompt_number": 10,
       "text": [
        "<plotly.tools.PlotlyDisplay at 0x7f3c76e82630>"
       ]
      }
     ],
     "prompt_number": 10
    },
    {
     "cell_type": "code",
     "collapsed": false,
     "input": [
      "py.image.save_as(fig, filename='insert_allen_hist.png')"
     ],
     "language": "python",
     "metadata": {},
     "outputs": [],
     "prompt_number": 11
    },
    {
     "cell_type": "heading",
     "level": 3,
     "metadata": {},
     "source": [
      "Kolmogorov-Smirnov test"
     ]
    },
    {
     "cell_type": "code",
     "collapsed": false,
     "input": [
      "from scipy.stats import ks_2samp\n",
      "import numpy as np\n",
      "\n",
      "ks_2samp(resp, nonresp)"
     ],
     "language": "python",
     "metadata": {},
     "outputs": [
      {
       "metadata": {},
       "output_type": "pyout",
       "prompt_number": 12,
       "text": [
        "Ks_2sampResult(statistic=0.076476633818995277, pvalue=0.42683096122361591)"
       ]
      }
     ],
     "prompt_number": 12
    },
    {
     "cell_type": "markdown",
     "metadata": {},
     "source": [
      "pval > stat => equal distribution"
     ]
    },
    {
     "cell_type": "heading",
     "level": 3,
     "metadata": {},
     "source": [
      "CDF (cumulative distribution function)"
     ]
    },
    {
     "cell_type": "code",
     "collapsed": false,
     "input": [
      "import numpy as np\n",
      "import matplotlib.pyplot as plt"
     ],
     "language": "python",
     "metadata": {},
     "outputs": [],
     "prompt_number": 13
    },
    {
     "cell_type": "code",
     "collapsed": false,
     "input": [
      "a = np.array(resp) \n",
      "num_bins = 20\n",
      "counts, bin_edges = np.histogram(a, bins=num_bins, normed=True)\n",
      "cdf = np.cumsum(counts)\n",
      "plt.plot(bin_edges[1:], cdf, label=\"response\", color = \"blue\")"
     ],
     "language": "python",
     "metadata": {},
     "outputs": [
      {
       "metadata": {},
       "output_type": "pyout",
       "prompt_number": 14,
       "text": [
        "[<matplotlib.lines.Line2D at 0x7f3c76df6e10>]"
       ]
      }
     ],
     "prompt_number": 14
    },
    {
     "cell_type": "code",
     "collapsed": false,
     "input": [
      "a = np.array(nonresp) \n",
      "num_bins = 20\n",
      "counts, bin_edges = np.histogram(a, bins=num_bins, normed=True)\n",
      "cdf = np.cumsum(counts)\n",
      "plt.plot(bin_edges[1:], cdf,  label=\"nonresponse\", color=\"green\")"
     ],
     "language": "python",
     "metadata": {},
     "outputs": [
      {
       "metadata": {},
       "output_type": "pyout",
       "prompt_number": 15,
       "text": [
        "[<matplotlib.lines.Line2D at 0x7f3c76dfe8d0>]"
       ]
      }
     ],
     "prompt_number": 15
    },
    {
     "cell_type": "code",
     "collapsed": false,
     "input": [
      "plt.title(\"CDF_insert_size_allen\")\n",
      "plt.show()"
     ],
     "language": "python",
     "metadata": {},
     "outputs": []
    },
    {
     "cell_type": "code",
     "collapsed": false,
     "input": [
      "plt.savefig('CDF_insert_size_allen.png')"
     ],
     "language": "python",
     "metadata": {},
     "outputs": []
    },
    {
     "cell_type": "code",
     "collapsed": false,
     "input": [],
     "language": "python",
     "metadata": {},
     "outputs": []
    },
    {
     "cell_type": "code",
     "collapsed": false,
     "input": [],
     "language": "python",
     "metadata": {},
     "outputs": []
    }
   ],
   "metadata": {}
  }
 ]
}