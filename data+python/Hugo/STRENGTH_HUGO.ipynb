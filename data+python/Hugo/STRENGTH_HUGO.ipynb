{
 "metadata": {
  "name": "",
  "signature": "sha256:01c7fd771072304c02e7cab6bb5b50f6a54351475fbc5812aac0555fd9822c56"
 },
 "nbformat": 3,
 "nbformat_minor": 0,
 "worksheets": [
  {
   "cells": [
    {
     "cell_type": "heading",
     "level": 1,
     "metadata": {},
     "source": [
      "STRENGTH"
     ]
    },
    {
     "cell_type": "heading",
     "level": 3,
     "metadata": {},
     "source": [
      "box-plot"
     ]
    },
    {
     "cell_type": "code",
     "collapsed": true,
     "input": [
      "import numpy as np\n",
      "import matplotlib.pyplot as plt\n",
      "import plotly.plotly as py\n",
      "py.sign_in('azulen', 'pp98g3mptq')\n",
      "import plotly.graph_objs as go\n",
      "import collections \n",
      "\n",
      "filenames_PD = []\n",
      "filenames_PR = []\n",
      "filenames_CR = []\n",
      "\n",
      "\n",
      "with open(\"metadata.txt\", \"r\") as f:\n",
      "    for line in f.readlines():\n",
      "        l = line.split(\"\\t\")\n",
      "        name = l[0]\n",
      "        resp = l[2]        \n",
      "        if name != \"file_name\":\n",
      "            if resp == \"PD\":\n",
      "                filenames_PD.append(name)\n",
      "            elif resp == \"PR\":\n",
      "                filenames_PR.append(name)\n",
      "            else:\n",
      "                filenames_CR.append(name)"
     ],
     "language": "python",
     "metadata": {},
     "outputs": [],
     "prompt_number": 1
    },
    {
     "cell_type": "code",
     "collapsed": false,
     "input": [
      "insert1 = collections.defaultdict(list)\n",
      "sp1 = []\n",
      "\n",
      "for el in filenames_PD:\n",
      "    with open(el, \"r\") as f:\n",
      "        insertsize = []\n",
      "        for line in f.readlines():\n",
      "            l = line.split(\"\\t\")\n",
      "            if l[0] != \"count\":\n",
      "                if l[13] != \"\":\n",
      "                    b = float(l[13])\n",
      "                    insertsize.append(b)\n",
      "        if len(insertsize) != 0:\n",
      "            avg = sum(insertsize)/len(insertsize)\n",
      "            sp1.append(avg)\n",
      "            #print (avg)\n",
      "            \n",
      "insert1[\"PD\"] = sp1\n",
      "            \n",
      "insert2 = collections.defaultdict(list)\n",
      "sp2 = []\n",
      "\n",
      "for el in filenames_PR:\n",
      "    with open(el, \"r\") as f:\n",
      "        insertsize = []\n",
      "        for line in f.readlines():\n",
      "            l = line.split(\"\\t\")\n",
      "            if l[0] != \"count\":\n",
      "                if l[13] != \"\":\n",
      "                    b = float(l[13])\n",
      "                    insertsize.append(b)\n",
      "        if len(insertsize) != 0:\n",
      "            avg = sum(insertsize)/len(insertsize)\n",
      "            sp2.append(avg)\n",
      "            \n",
      "            \n",
      "insert2[\"PR\"] = sp2\n",
      "            \n",
      "            \n",
      "            \n",
      "insert3 = collections.defaultdict(list)\n",
      "sp3 = []\n",
      "\n",
      "for el in filenames_CR:\n",
      "    with open(el, \"r\") as f:\n",
      "        insertsize = []\n",
      "        for line in f.readlines():\n",
      "            l = line.split(\"\\t\")\n",
      "            if l[0] != \"count\":\n",
      "                if l[13] != \"\":\n",
      "                    b = float(l[13])\n",
      "                    insertsize.append(b)\n",
      "        if len(insertsize) != 0:\n",
      "            avg = sum(insertsize)/len(insertsize)\n",
      "            sp3.append(avg)\n",
      "            \n",
      "            \n",
      "insert3[\"CR\"] = sp3\n",
      "\n",
      " \n",
      "insert1.update(insert2)\n",
      "\n",
      "insert1.update(insert3)\n"
     ],
     "language": "python",
     "metadata": {},
     "outputs": [],
     "prompt_number": 2
    },
    {
     "cell_type": "code",
     "collapsed": false,
     "input": [
      "x_PD = []\n",
      "y_PD = []\n",
      "\n",
      "x_PR = []\n",
      "y_PR = []\n",
      "\n",
      "x_CR = []\n",
      "y_CR = []\n",
      "\n",
      "for key, val in insert1.items():\n",
      "    if key == \"PD\":\n",
      "        x_PD.append(key)\n",
      "        y_PD.append(val)\n",
      "    elif key == \"PR\":\n",
      "        x_PR.append(key)\n",
      "        y_PR.append(val)\n",
      "    else: \n",
      "        x_CR.append(key)\n",
      "        y_CR.append(val)"
     ],
     "language": "python",
     "metadata": {},
     "outputs": [],
     "prompt_number": 3
    },
    {
     "cell_type": "code",
     "collapsed": false,
     "input": [
      "traces = []\n",
      "\n",
      "for xd, yd in zip(x_PD, y_PD):\n",
      "        traces.append(go.Box(\n",
      "            y=yd,\n",
      "            name=\"progressive disease\",\n",
      "            #boxpoints='all',\n",
      "            jitter=0.5,\n",
      "            whiskerwidth=0.2,   \n",
      "            marker=dict(\n",
      "                color = 'rgb(214, 12, 140)',\n",
      "            ),\n",
      "            line=dict(width=1),\n",
      "        ))        \n",
      "\n",
      "for xd, yd in zip(x_PR, y_PR):\n",
      "        traces.append(go.Box(\n",
      "            y=yd,\n",
      "            name=\"partial response\",\n",
      "            #boxpoints='all',\n",
      "            jitter=0.5,\n",
      "            whiskerwidth=0.2,   \n",
      "            marker=dict(\n",
      "                color = 'rgb(0, 128, 128)',\n",
      "            ),\n",
      "            line=dict(width=1),\n",
      "        ))  \n",
      "\n",
      "for xd, yd in zip(x_CR, y_CR):\n",
      "        traces.append(go.Box(\n",
      "            y=yd,\n",
      "            name=\"complete response\",\n",
      "            #boxpoints='all',\n",
      "            jitter=0.5,\n",
      "            whiskerwidth=0.2,   \n",
      "            marker=dict(\n",
      "                color = 'rgba(127, 96, 0, 0.5)',\n",
      "            ),\n",
      "            line=dict(width=1),\n",
      "        ))  \n",
      "        \n",
      "layout = go.Layout(title = 'strength_HUGO', showlegend=False)\n",
      "\n",
      "fig = go.Figure(data=traces, layout = layout)\n",
      "py.iplot(fig)  "
     ],
     "language": "python",
     "metadata": {},
     "outputs": [
      {
       "html": [
        "<iframe id=\"igraph\" scrolling=\"no\" style=\"border:none;\" seamless=\"seamless\" src=\"https://plot.ly/~azulen/154.embed\" height=\"525px\" width=\"100%\"></iframe>"
       ],
       "metadata": {},
       "output_type": "pyout",
       "prompt_number": 4,
       "text": [
        "<plotly.tools.PlotlyDisplay at 0x7ff9fc99c4a8>"
       ]
      }
     ],
     "prompt_number": 4
    },
    {
     "cell_type": "code",
     "collapsed": false,
     "input": [
      "py.image.save_as(fig, filename='Strength_HUGO_box_plot.png')"
     ],
     "language": "python",
     "metadata": {},
     "outputs": [],
     "prompt_number": 5
    },
    {
     "cell_type": "heading",
     "level": 3,
     "metadata": {},
     "source": [
      "histogram"
     ]
    },
    {
     "cell_type": "code",
     "collapsed": false,
     "input": [
      "import plotly.plotly as py\n",
      "import numpy as np\n",
      "import plotly.graph_objs as go\n",
      "import numpy as np\n",
      "\n",
      "PD1 = []\n",
      "PR1 = []\n",
      "CR1 = []\n",
      "\n",
      "for el in filenames_PD:\n",
      "    with open(el, \"r\") as f:\n",
      "        insertsize = []\n",
      "        for line in f.readlines():\n",
      "            l = line.split(\"\\t\")\n",
      "            if l[0] != \"count\":\n",
      "                if l[13] != \"\":\n",
      "                    b = float(l[13])\n",
      "                    PD1.append(b)\n",
      "                \n",
      "\n",
      "PD = []\n",
      "sum_PD = sum(PD1)\n",
      "for el in PD1:\n",
      "    PD.append(el/sum_PD)\n",
      "\n",
      "for el in filenames_CR:\n",
      "    with open(el, \"r\") as f:\n",
      "        insertsize = []\n",
      "        for line in f.readlines():\n",
      "            l = line.split(\"\\t\")\n",
      "            if l[0] != \"count\":\n",
      "                if l[13] != \"\":\n",
      "                    b = float(l[13])\n",
      "                    CR1.append(b) \n",
      "                    \n",
      "CR = []\n",
      "sum_CR = sum(CR1)\n",
      "for el in CR1:\n",
      "    CR.append(el/sum_CR)      \n",
      "    \n",
      "for el in filenames_PR:\n",
      "    with open(el, \"r\") as f:\n",
      "        insertsize = []\n",
      "        for line in f.readlines():\n",
      "            l = line.split(\"\\t\")\n",
      "            if l[0] != \"count\":\n",
      "                if l[13] != \"\":\n",
      "                    b = float(l[13])\n",
      "                    PR1.append(b)  \n",
      "                    \n",
      "PR = []\n",
      "sum_PR = sum(PR1)\n",
      "for el in PR1:\n",
      "    PR.append(el/sum_PR)"
     ],
     "language": "python",
     "metadata": {},
     "outputs": [],
     "prompt_number": 6
    },
    {
     "cell_type": "code",
     "collapsed": false,
     "input": [
      "trace1 = go.Histogram(\n",
      "    name = 'complete response',\n",
      "    x=CR,\n",
      "    opacity=0.75\n",
      ")\n",
      "\n",
      "trace2 = go.Histogram(\n",
      "    name = 'partial response',\n",
      "    x=PR,\n",
      "    opacity=0.75\n",
      ")\n",
      "\n",
      "trace3 = go.Histogram(\n",
      "    name = 'progressive disease',\n",
      "    x=PD,\n",
      "    opacity=0.75\n",
      ")\n",
      "\n",
      "\n",
      "data = [trace1, trace2, trace3]\n",
      "layout = go.Layout(\n",
      "    barmode='overlay'\n",
      ")\n",
      "fig = go.Figure(data=data, layout=layout)\n",
      "py.iplot(fig)"
     ],
     "language": "python",
     "metadata": {},
     "outputs": [
      {
       "html": [
        "<iframe id=\"igraph\" scrolling=\"no\" style=\"border:none;\" seamless=\"seamless\" src=\"https://plot.ly/~azulen/156.embed\" height=\"525px\" width=\"100%\"></iframe>"
       ],
       "metadata": {},
       "output_type": "pyout",
       "prompt_number": 7,
       "text": [
        "<plotly.tools.PlotlyDisplay at 0x7ff9fc936cf8>"
       ]
      }
     ],
     "prompt_number": 7
    },
    {
     "cell_type": "code",
     "collapsed": false,
     "input": [
      "py.image.save_as(fig, filename='strength_HUGO_hist.png')"
     ],
     "language": "python",
     "metadata": {},
     "outputs": [],
     "prompt_number": 8
    },
    {
     "cell_type": "heading",
     "level": 3,
     "metadata": {},
     "source": [
      "Kruskall wallis"
     ]
    },
    {
     "cell_type": "code",
     "collapsed": false,
     "input": [
      "from scipy import stats\n",
      "stats.kruskal(PR1, PD1, CR1)"
     ],
     "language": "python",
     "metadata": {},
     "outputs": [
      {
       "metadata": {},
       "output_type": "pyout",
       "prompt_number": 9,
       "text": [
        "KruskalResult(statistic=2.494552547403778, pvalue=0.28728622121987735)"
       ]
      }
     ],
     "prompt_number": 9
    },
    {
     "cell_type": "markdown",
     "metadata": {},
     "source": [
      "p_val < stat => H0 reject (medians are not equal)"
     ]
    },
    {
     "cell_type": "heading",
     "level": 3,
     "metadata": {},
     "source": [
      "1 way ANOVA"
     ]
    },
    {
     "cell_type": "code",
     "collapsed": false,
     "input": [
      "import scipy.stats as stats\n",
      "stats.f_oneway(PR1, PD1, CR1)"
     ],
     "language": "python",
     "metadata": {},
     "outputs": [
      {
       "metadata": {},
       "output_type": "pyout",
       "prompt_number": 10,
       "text": [
        "F_onewayResult(statistic=1.8709272651080084, pvalue=0.15415475263447068)"
       ]
      }
     ],
     "prompt_number": 10
    },
    {
     "cell_type": "markdown",
     "metadata": {},
     "source": [
      "pval < stat => H0 reject (means are not equal)"
     ]
    },
    {
     "cell_type": "heading",
     "level": 3,
     "metadata": {},
     "source": [
      "CDF"
     ]
    },
    {
     "cell_type": "code",
     "collapsed": false,
     "input": [
      "import numpy as np\n",
      "import matplotlib.pyplot as plt\n",
      "\n",
      "a = np.array(PR1) \n",
      "num_bins = 8\n",
      "counts, bin_edges = np.histogram(a, bins=num_bins, normed=True)\n",
      "cdf = np.cumsum(counts)\n",
      "line_med, = plt.plot(bin_edges[1:], cdf, label=\"partial response\", color = \"blue\")\n",
      "\n",
      "a = np.array(PD1) \n",
      "num_bins = 8\n",
      "counts, bin_edges = np.histogram(a, bins=num_bins, normed=True)\n",
      "cdf = np.cumsum(counts)\n",
      "line_up, = plt.plot(bin_edges[1:], cdf,  label=\"progressive disease\", color=\"green\")\n",
      "\n",
      "a = np.array(CR1) \n",
      "num_bins = 8\n",
      "counts, bin_edges = np.histogram(a, bins=num_bins, normed=True)\n",
      "cdf = np.cumsum(counts)\n",
      "line_down, = plt.plot(bin_edges[1:], cdf,  label=\"complete response\", color=\"red\")\n",
      "\n",
      "plt.title(\"CDF_strength_hugo\")\n",
      "\n",
      "plt.legend(handles=[line_up, line_down, line_med], loc = 'lower right' )\n",
      "\n",
      "plt.show()"
     ],
     "language": "python",
     "metadata": {},
     "outputs": []
    },
    {
     "cell_type": "code",
     "collapsed": false,
     "input": [
      "#plt.savefig('CDF_strength_hugo.png')"
     ],
     "language": "python",
     "metadata": {},
     "outputs": []
    },
    {
     "cell_type": "code",
     "collapsed": false,
     "input": [],
     "language": "python",
     "metadata": {},
     "outputs": []
    }
   ],
   "metadata": {}
  }
 ]
}