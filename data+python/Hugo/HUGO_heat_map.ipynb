{
 "metadata": {
  "name": "",
  "signature": "sha256:976cb6eb02ca55564b0a4a662bb97e53787c6703ea846ef22fa177be62854c52"
 },
 "nbformat": 3,
 "nbformat_minor": 0,
 "worksheets": [
  {
   "cells": [
    {
     "cell_type": "heading",
     "level": 2,
     "metadata": {},
     "source": [
      "heat-map resp and nonresp "
     ]
    },
    {
     "cell_type": "code",
     "collapsed": false,
     "input": [
      "from plotly import __version__\n",
      "from plotly.offline import download_plotlyjs, init_notebook_mode, plot, iplot\n",
      "from plotly.graph_objs import *\n",
      "\n",
      "\n",
      "init_notebook_mode(connected=True)"
     ],
     "language": "python",
     "metadata": {},
     "outputs": [
      {
       "html": [
        "<script>requirejs.config({paths: { 'plotly': ['https://cdn.plot.ly/plotly-latest.min']},});if(!window.Plotly) {{require(['plotly'],function(plotly) {window.Plotly=plotly;});}}</script>"
       ],
       "metadata": {},
       "output_type": "display_data",
       "text": [
        "<IPython.core.display.HTML at 0x7f393753e1d0>"
       ]
      }
     ],
     "prompt_number": 40
    },
    {
     "cell_type": "code",
     "collapsed": false,
     "input": [
      "filenames_PD = []\n",
      "filenames_PR = []\n",
      "filenames_CR = []\n",
      "\n",
      "\n",
      "with open(\"metadata.txt\", \"r\") as f:\n",
      "    for line in f.readlines():\n",
      "        l = line.split(\"\\t\")\n",
      "        name = l[0]\n",
      "        resp = l[2]        \n",
      "        if name != \"file_name\":\n",
      "            if resp == \"PD\":\n",
      "                filenames_PD.append(name)\n",
      "            elif resp == \"PR\":\n",
      "                filenames_PR.append(name)\n",
      "            else:\n",
      "                filenames_CR.append(name)   \n",
      "                \n",
      "PD = {}\n",
      "ins = set()\n",
      "stre = set()\n",
      "\n",
      "for el in filenames_PD:\n",
      "    with open(el, \"r\") as f:\n",
      "        for line in f.readlines():\n",
      "            l = line.split(\"\\t\")\n",
      "            if l[0] != \"count\":\n",
      "                if l[12] != \"\" and l[13]!= \"\":\n",
      "                    if l[12] != \"-1\":\n",
      "                        insert = float(l[12])\n",
      "                        ins.add(insert)\n",
      "                        strength = float(l[13])\n",
      "                        stre.add(strength)\n",
      "                        key = (insert, strength)\n",
      "                        if key in PD.keys():\n",
      "                            PD[key] += 1\n",
      "                        else:\n",
      "                            PD[key] = 0\n",
      "                        \n",
      "                        \n",
      "#for key, item in PD.items():\n",
      "    #print (str(key)+\"\\t\"+str(item))\n",
      "    \n",
      "sorted(ins)\n",
      "sorted(stre)\n",
      "\n",
      "n = len(stre)\n",
      "m = len(ins)\n",
      "\n",
      "ins = list(ins)\n",
      "stre = list(stre)\n",
      "\n",
      " \n",
      "data = [] \n",
      "\n",
      "\n",
      "for el in ins:\n",
      "    bla = []\n",
      "    for k in stre:\n",
      "        if (el,k) not in PD.keys():\n",
      "            bla.append(0)   \n",
      "        else:\n",
      "            bla.append(PD[(el,k)])\n",
      "    data.append(bla)"
     ],
     "language": "python",
     "metadata": {},
     "outputs": [],
     "prompt_number": 41
    },
    {
     "cell_type": "code",
     "collapsed": false,
     "input": [
      "data = [\n",
      "    go.Heatmap(\n",
      "        z=data,\n",
      "        x=stre,\n",
      "        y=ins,\n",
      "        colorscale='Viridis'\n",
      "    )\n",
      "]\n",
      "\n",
      "layout = go.Layout(\n",
      "    title='heatmap insert_size and strength, PD, Hugo',\n",
      ")\n",
      "\n",
      "fig = go.Figure(data=data, layout=layout)\n",
      "\n",
      "\n",
      "iplot(fig, filename='heatmap insert_size and strength, PD, Hugo')         \n",
      "                        "
     ],
     "language": "python",
     "metadata": {},
     "outputs": [
      {
       "html": [
        "<div id=\"4b5753f5-7649-4840-a7f4-5e9d66099e26\" style=\"height: 525px; width: 100%;\" class=\"plotly-graph-div\"></div><script type=\"text/javascript\">require([\"plotly\"], function(Plotly) { window.PLOTLYENV=window.PLOTLYENV || {};window.PLOTLYENV.BASE_URL=\"https://plot.ly\";Plotly.newPlot(\"4b5753f5-7649-4840-a7f4-5e9d66099e26\", [{\"z\": [[2, 8, 17, 10, 0, 0, 0, 0], [0, 12, 23, 15, 0, 0, 0, 0], [5, 13, 34, 31, 9, 0, 0, 0], [0, 11, 46, 29, 9, 1, 0, 0], [0, 15, 39, 33, 12, 0, 0, 0], [1, 16, 29, 26, 13, 4, 0, 0], [0, 10, 30, 21, 12, 2, 0, 0], [2, 11, 34, 24, 11, 2, 1, 0], [0, 11, 13, 17, 9, 6, 0, 0], [1, 3, 10, 14, 12, 1, 0, 0], [0, 6, 13, 15, 5, 3, 0, 0], [0, 4, 8, 8, 2, 2, 0, 0], [0, 0, 6, 7, 2, 4, 0, 0], [0, 1, 6, 2, 2, 1, 0, 0], [0, 1, 1, 7, 0, 0, 1, 0], [0, 0, 1, 1, 2, 2, 0, 0], [0, 0, 1, 4, 0, 0, 0, 0], [0, 0, 1, 0, 0, 0, 0, 0], [0, 0, 0, 0, 0, 0, 0, 0], [0, 0, 0, 0, 0, 0, 0, 0], [0, 0, 0, 0, 0, 0, 0, 0], [0, 0, 0, 0, 0, 0, 0, 0], [0, 0, 0, 0, 0, 0, 0, 0], [0, 0, 0, 0, 0, 0, 0, 0]], \"x\": [2.0, 3.0, 4.0, 5.0, 6.0, 7.0, 8.0, 9.0], \"y\": [0.0, 1.0, 2.0, 3.0, 4.0, 5.0, 6.0, 7.0, 8.0, 9.0, 10.0, 11.0, 12.0, 13.0, 14.0, 15.0, 16.0, 17.0, 18.0, 19.0, 20.0, 21.0, 25.0, 32.0], \"type\": \"heatmap\", \"colorscale\": \"Viridis\"}], {\"title\": \"heatmap insert_size and strength, PD, Hugo\"}, {\"linkText\": \"Export to plot.ly\", \"showLink\": true})});</script>"
       ],
       "metadata": {},
       "output_type": "display_data",
       "text": [
        "<IPython.core.display.HTML at 0x7f3964793588>"
       ]
      }
     ],
     "prompt_number": 42
    },
    {
     "cell_type": "code",
     "collapsed": false,
     "input": [
      "PR = {}\n",
      "ins1 = set()\n",
      "stre1 = set()\n",
      "\n",
      "for el in filenames_PR:\n",
      "    with open(el, \"r\") as f:\n",
      "        for line in f.readlines():\n",
      "            l = line.split(\"\\t\")\n",
      "            if l[0] != \"count\":\n",
      "                if l[12] != \"\" and l[13]!= \"\":\n",
      "                    if l[12] != \"-1\":\n",
      "                        insert = float(l[12])\n",
      "                        ins1.add(insert)\n",
      "                        strength = float(l[13])\n",
      "                        stre1.add(strength)\n",
      "                        key = (insert, strength)\n",
      "                        if key in PR.keys():\n",
      "                            PR[key] += 1\n",
      "                        else:\n",
      "                            PR[key] = 0\n",
      "                        \n",
      "                        \n",
      "#for key, item in PD.items():\n",
      "    #print (str(key)+\"\\t\"+str(item))\n",
      "    \n",
      "sorted(ins1)\n",
      "sorted(stre1)\n",
      "\n",
      "n = len(stre1)\n",
      "m = len(ins1)\n",
      "\n",
      "ins1 = list(ins1)\n",
      "stre1 = list(stre1)\n",
      "\n",
      " \n",
      "data1 = [] \n",
      "\n",
      "\n",
      "for el in ins1:\n",
      "    bla = []\n",
      "    for k in stre1:\n",
      "        if (el,k) not in PR.keys():\n",
      "            bla.append(0)   \n",
      "        else:\n",
      "            bla.append(PR[(el,k)])\n",
      "    data1.append(bla)"
     ],
     "language": "python",
     "metadata": {},
     "outputs": [],
     "prompt_number": 44
    },
    {
     "cell_type": "code",
     "collapsed": false,
     "input": [
      "data1 = [\n",
      "    go.Heatmap(\n",
      "        z=data1,\n",
      "        x=stre1,\n",
      "        y=ins1,\n",
      "        colorscale='Viridis'\n",
      "    )\n",
      "]\n",
      "\n",
      "layout = go.Layout(\n",
      "    title='heatmap insert_size and strength, PR, Hugo',\n",
      ")\n",
      "\n",
      "fig = go.Figure(data=data1, layout=layout)\n",
      "\n",
      "\n",
      "iplot(fig, filename='heatmap insert_size and strength, PR, Hugo') "
     ],
     "language": "python",
     "metadata": {},
     "outputs": [
      {
       "html": [
        "<div id=\"dfe98793-d394-4df9-8b33-7c2993eabf52\" style=\"height: 525px; width: 100%;\" class=\"plotly-graph-div\"></div><script type=\"text/javascript\">require([\"plotly\"], function(Plotly) { window.PLOTLYENV=window.PLOTLYENV || {};window.PLOTLYENV.BASE_URL=\"https://plot.ly\";Plotly.newPlot(\"dfe98793-d394-4df9-8b33-7c2993eabf52\", [{\"z\": [[1, 9, 19, 11, 2, 0, 0], [0, 10, 18, 20, 2, 0, 0], [0, 10, 32, 18, 4, 2, 0], [1, 22, 47, 34, 6, 0, 0], [3, 12, 37, 21, 13, 0, 0], [3, 17, 38, 36, 11, 0, 0], [0, 19, 29, 32, 8, 1, 0], [0, 7, 28, 27, 14, 2, 0], [1, 12, 22, 13, 10, 2, 0], [0, 5, 18, 15, 5, 2, 0], [0, 7, 9, 11, 6, 0, 0], [0, 2, 13, 12, 9, 1, 0], [1, 0, 10, 3, 5, 1, 0], [0, 1, 1, 8, 4, 0, 0], [0, 1, 2, 1, 1, 0, 0], [0, 0, 2, 3, 1, 0, 0], [0, 0, 1, 1, 4, 0, 0], [0, 0, 0, 1, 0, 0, 0], [0, 0, 0, 0, 0, 0, 0], [0, 0, 2, 1, 0, 0, 0], [0, 0, 0, 0, 0, 0, 0], [0, 0, 0, 0, 0, 0, 0], [0, 0, 0, 0, 0, 0, 0], [0, 0, 0, 0, 0, 0, 0]], \"x\": [2.0, 3.0, 4.0, 5.0, 6.0, 7.0, 8.0], \"y\": [0.0, 1.0, 2.0, 3.0, 4.0, 5.0, 6.0, 7.0, 8.0, 9.0, 10.0, 11.0, 12.0, 13.0, 14.0, 15.0, 16.0, 17.0, 18.0, 19.0, 20.0, 21.0, 23.0, 26.0], \"type\": \"heatmap\", \"colorscale\": \"Viridis\"}], {\"title\": \"heatmap insert_size and strength, PR, Hugo\"}, {\"linkText\": \"Export to plot.ly\", \"showLink\": true})});</script>"
       ],
       "metadata": {},
       "output_type": "display_data",
       "text": [
        "<IPython.core.display.HTML at 0x7f3964793240>"
       ]
      }
     ],
     "prompt_number": 45
    },
    {
     "cell_type": "code",
     "collapsed": false,
     "input": [
      "CR = {}\n",
      "ins2 = set()\n",
      "stre2 = set()\n",
      "\n",
      "for el in filenames_CR:\n",
      "    with open(el, \"r\") as f:\n",
      "        for line in f.readlines():\n",
      "            l = line.split(\"\\t\")\n",
      "            if l[0] != \"count\":\n",
      "                if l[12] != \"\" and l[13]!= \"\":\n",
      "                    if l[12] != \"-1\":\n",
      "                        insert = float(l[12])\n",
      "                        ins2.add(insert)\n",
      "                        strength = float(l[13])\n",
      "                        stre2.add(strength)\n",
      "                        key = (insert, strength)\n",
      "                        if key in CR.keys():\n",
      "                            CR[key] += 1\n",
      "                        else:\n",
      "                            CR[key] = 0\n",
      "                        \n",
      "                        \n",
      "#for key, item in PD.items():\n",
      "    #print (str(key)+\"\\t\"+str(item))\n",
      "    \n",
      "sorted(ins2)\n",
      "sorted(stre2)\n",
      "\n",
      "n = len(stre2)\n",
      "m = len(ins2)\n",
      "\n",
      "ins2 = list(ins2)\n",
      "stre2 = list(stre2)\n",
      "\n",
      " \n",
      "data2 = [] \n",
      "\n",
      "\n",
      "for el in ins2:\n",
      "    bla = []\n",
      "    for k in stre2:\n",
      "        if (el,k) not in CR.keys():\n",
      "            bla.append(0)   \n",
      "        else:\n",
      "            bla.append(CR[(el,k)])\n",
      "    data2.append(bla)"
     ],
     "language": "python",
     "metadata": {},
     "outputs": [],
     "prompt_number": 46
    },
    {
     "cell_type": "code",
     "collapsed": false,
     "input": [
      "data1 = [\n",
      "    go.Heatmap(\n",
      "        z=data2,\n",
      "        x=stre2,\n",
      "        y=ins2,\n",
      "        colorscale='Viridis'\n",
      "    )\n",
      "]\n",
      "\n",
      "layout = go.Layout(\n",
      "    title='heatmap insert_size and strength, CR, Hugo',\n",
      ")\n",
      "\n",
      "fig = go.Figure(data=data1, layout=layout)\n",
      "\n",
      "\n",
      "iplot(fig, filename='heatmap insert_size and strength, CR, Hugo') "
     ],
     "language": "python",
     "metadata": {},
     "outputs": [
      {
       "html": [
        "<div id=\"6ab342a6-7e8f-4862-b053-3b1ea461a6bd\" style=\"height: 525px; width: 100%;\" class=\"plotly-graph-div\"></div><script type=\"text/javascript\">require([\"plotly\"], function(Plotly) { window.PLOTLYENV=window.PLOTLYENV || {};window.PLOTLYENV.BASE_URL=\"https://plot.ly\";Plotly.newPlot(\"6ab342a6-7e8f-4862-b053-3b1ea461a6bd\", [{\"z\": [[0, 3, 9, 6, 0, 0, 0, 0], [0, 1, 6, 7, 1, 0, 0, 0], [0, 1, 12, 8, 0, 0, 0, 0], [0, 4, 16, 5, 2, 0, 0, 0], [0, 8, 10, 8, 0, 0, 0, 0], [0, 6, 12, 7, 5, 0, 0, 0], [0, 3, 3, 9, 3, 0, 0, 0], [0, 3, 6, 4, 4, 0, 0, 0], [0, 4, 8, 6, 1, 0, 0, 0], [0, 3, 6, 3, 3, 0, 0, 0], [0, 1, 2, 3, 0, 0, 0, 0], [0, 0, 0, 5, 2, 0, 0, 0], [0, 0, 1, 0, 0, 0, 0, 0], [0, 0, 0, 2, 0, 0, 0, 0], [0, 0, 0, 2, 2, 0, 0, 0], [0, 0, 0, 0, 1, 0, 0, 0], [0, 0, 0, 0, 0, 0, 0, 0], [0, 0, 0, 0, 0, 0, 0, 0], [0, 0, 0, 0, 0, 0, 0, 0]], \"x\": [2.0, 3.0, 4.0, 5.0, 6.0, 7.0, 8.0, 9.0], \"y\": [0.0, 1.0, 2.0, 3.0, 4.0, 5.0, 6.0, 7.0, 8.0, 9.0, 10.0, 11.0, 12.0, 13.0, 14.0, 15.0, 17.0, 18.0, 20.0], \"type\": \"heatmap\", \"colorscale\": \"Viridis\"}], {\"title\": \"heatmap insert_size and strength, CR, Hugo\"}, {\"linkText\": \"Export to plot.ly\", \"showLink\": true})});</script>"
       ],
       "metadata": {},
       "output_type": "display_data",
       "text": [
        "<IPython.core.display.HTML at 0x7f393753a9b0>"
       ]
      }
     ],
     "prompt_number": 47
    },
    {
     "cell_type": "code",
     "collapsed": false,
     "input": [],
     "language": "python",
     "metadata": {},
     "outputs": []
    },
    {
     "cell_type": "code",
     "collapsed": false,
     "input": [],
     "language": "python",
     "metadata": {},
     "outputs": []
    }
   ],
   "metadata": {}
  }
 ]
}