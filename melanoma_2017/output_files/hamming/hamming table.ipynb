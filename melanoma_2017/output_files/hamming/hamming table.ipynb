{
 "metadata": {
  "name": "",
  "signature": "sha256:0828556db6ad378dd6a722c04a35f4bddd4757cd3682a54d2d532aa86497ac52"
 },
 "nbformat": 3,
 "nbformat_minor": 0,
 "worksheets": [
  {
   "cells": [
    {
     "cell_type": "code",
     "collapsed": false,
     "input": [
      "#hamming\n",
      "def hammdist2(str1, str2):\n",
      "    return sum(a != b for (a,b) in zip(str1, str2))\n",
      "\n",
      "#table hamming\n",
      "#for i,x in enumerate(first):\n",
      "    #for j,y in enumerate(first):\n",
      "        #if i != j:\n",
      "            #print (x, y, hammdist(x, y))"
     ],
     "language": "python",
     "metadata": {},
     "outputs": [],
     "prompt_number": 2
    },
    {
     "cell_type": "code",
     "collapsed": false,
     "input": [
      "#TRB cdr1 cdr2 \n",
      "TRB_cdr3_aa = []\n",
      "with open(\"melanoma.txt\", \"r\") as f:\n",
      "    next(f)\n",
      "    for line in f.readlines():\n",
      "        line_split = line.split(\"\\t\")\n",
      "        if line.find(\"TRB\") != -1:\n",
      "            cdr3_aa = line_split[6].strip()\n",
      "            #print (cdr3_aa, line_split[1])\n",
      "            TRB_cdr3_aa.append(cdr3_aa)\n",
      "            \n",
      "print (len(set(TRB_cdr3_aa)))            "
     ],
     "language": "python",
     "metadata": {},
     "outputs": [
      {
       "output_type": "stream",
       "stream": "stdout",
       "text": [
        "22429\n"
       ]
      }
     ],
     "prompt_number": 3
    },
    {
     "cell_type": "code",
     "collapsed": false,
     "input": [],
     "language": "python",
     "metadata": {},
     "outputs": [],
     "prompt_number": 3
    },
    {
     "cell_type": "code",
     "collapsed": false,
     "input": [
      "hamming_table = open(\"hamming_table_out_1.txt\", \"w\")\n",
      "\n",
      "for i,x in enumerate(TRB_cdr3_aa):\n",
      "    for j,y in enumerate(TRB_cdr3_aa):\n",
      "        if (x>y) & (len(x) == len(y)):\n",
      "                if hammdist2(x, y) <= 1:\n",
      "                    string = x+\"\\t\"+y+\"\\t\"+str(hammdist2(x, y))+\"\\n\"\n",
      "                    \n",
      "                    hamming_table.write(string)\n",
      "            \n",
      "            #print (x, y, hammdist(x, y))\n",
      "            \n",
      "hamming_table.close()"
     ],
     "language": "python",
     "metadata": {},
     "outputs": [],
     "prompt_number": 4
    },
    {
     "cell_type": "code",
     "collapsed": false,
     "input": [
      "count = 0\n",
      "with open(\"hamming_table_out.txt\", \"r\") as h:\n",
      "    for hine in h.readlines():\n",
      "        count +=1\n",
      " \n",
      "        \n",
      "print (count)"
     ],
     "language": "python",
     "metadata": {},
     "outputs": [
      {
       "output_type": "stream",
       "stream": "stdout",
       "text": [
        "697005\n"
       ]
      }
     ],
     "prompt_number": 7
    },
    {
     "cell_type": "code",
     "collapsed": false,
     "input": [],
     "language": "python",
     "metadata": {},
     "outputs": []
    }
   ],
   "metadata": {}
  }
 ]
}